{
 "cells": [
  {
   "cell_type": "code",
   "execution_count": null,
   "metadata": {},
   "outputs": [],
   "source": [
    "#---------------------------------------------------------IP"
   ]
  },
  {
   "cell_type": "code",
   "execution_count": 144,
   "metadata": {},
   "outputs": [],
   "source": [
    "import requests\n",
    "from bs4 import BeautifulSoup\n",
    "import re\n",
    "import threading\n",
    "import time"
   ]
  },
  {
   "cell_type": "code",
   "execution_count": 145,
   "metadata": {},
   "outputs": [],
   "source": [
    "url = 'https://www.ptt.cc/bbs/HatePolitics/index.html'\n",
    "my_headers = {'cookie': 'over18=1;'}\n",
    "r = requests.get(url, headers = my_headers)\n",
    "\n",
    "soup = BeautifulSoup(r.text, \"html5lib\")"
   ]
  },
  {
   "cell_type": "code",
   "execution_count": 146,
   "metadata": {},
   "outputs": [
    {
     "name": "stdout",
     "output_type": "stream",
     "text": [
      "50\n"
     ]
    },
    {
     "data": {
      "text/plain": [
       "'https://www.ptt.cc/bbs/HatePolitics/index4070.html'"
      ]
     },
     "execution_count": 146,
     "metadata": {},
     "output_type": "execute_result"
    }
   ],
   "source": [
    "url_list=['https://www.ptt.cc/bbs/HatePolitics/index.html']\n",
    "\n",
    "a=soup.find_all('a',class_=\"btn wide\")\n",
    "second_page=a[1]['href']\n",
    "second_page_number=re.findall('[0-9]+', second_page)\n",
    "\n",
    "count=int(second_page_number[0])+1\n",
    "for i in range(49):\n",
    "    count-=1\n",
    "    url_list.append('https://www.ptt.cc/bbs/HatePolitics/index'+str(count)+'.html')\n",
    "\n",
    "print(len(url_list))  \n",
    "    \n",
    "url_list[-1]  \n"
   ]
  },
  {
   "cell_type": "code",
   "execution_count": 147,
   "metadata": {},
   "outputs": [
    {
     "name": "stdout",
     "output_type": "stream",
     "text": [
      "965\n",
      "36.086315631866455\n"
     ]
    }
   ],
   "source": [
    "start = time.time()\n",
    "\n",
    "title_url=[]\n",
    "\n",
    "my_headers = {'cookie': 'over18=1;'}\n",
    "for i in range(0,50):\n",
    "    r=requests.get(url_list[i],headers=my_headers)\n",
    "    soup = BeautifulSoup(r.text, \"html5lib\")\n",
    "    b=soup.find_all('div',class_=\"title\")\n",
    "\n",
    "    for i in range(len(b)):\n",
    "        if b[i].text.replace('\\n','').replace('\\t','')[0:8]!='(本文已被刪除)' and b[i].text.replace('\\n','').replace('\\t','')[0:3]!='(已被':\n",
    "            title_url.append('https://www.ptt.cc'+b[i].a['href'])\n",
    "\n",
    "print(len(title_url))\n",
    "c\n",
    "print(process_time)"
   ]
  },
  {
   "cell_type": "code",
   "execution_count": 148,
   "metadata": {},
   "outputs": [
    {
     "name": "stdout",
     "output_type": "stream",
     "text": [
      "330.707882642746\n"
     ]
    }
   ],
   "source": [
    "user_ip=[]\n",
    "text=''\n",
    "start = time.time()\n",
    "\n",
    "\n",
    "my_headers = {'cookie': 'over18=1;'}\n",
    "\n",
    "for i in range(500):\n",
    "    url = title_url[i]\n",
    "    r = requests.get(url, headers = my_headers)\n",
    "    soup = BeautifulSoup(r.text, \"html5lib\")\n",
    "    b=soup.find_all('span',class_=\"f2\")\n",
    "    for i in range(len(b)):\n",
    "        a=b[i].text\n",
    "        if a[0:27]=='※ 發信站: 批踢踢實業坊(ptt.cc), 來自: ':\n",
    "            c=re.search(r'([ ](\\d{1,3}).(\\d{1,3}).(\\d{1,3}).(\\d{1,3})[ ])',a)\n",
    "            user_ip.append(c.group().replace(' ',''))\n",
    "\n",
    "process_time = time.time() - start\n",
    "print(process_time)"
   ]
  },
  {
   "cell_type": "code",
   "execution_count": 149,
   "metadata": {},
   "outputs": [
    {
     "name": "stdout",
     "output_type": "stream",
     "text": [
      "500\n",
      "180.217.172.123\n"
     ]
    },
    {
     "data": {
      "text/plain": [
       "'https://www.ptt.cc/bbs/HatePolitics/M.1599122183.A.1FB.html'"
      ]
     },
     "execution_count": 149,
     "metadata": {},
     "output_type": "execute_result"
    }
   ],
   "source": [
    "print(len(user_ip))\n",
    "\n",
    "print(user_ip[-1])\n",
    "title_url[814]"
   ]
  },
  {
   "cell_type": "code",
   "execution_count": 143,
   "metadata": {},
   "outputs": [
    {
     "data": {
      "text/plain": [
       "['※ 發信站: 批踢踢實業坊(ptt.cc), 來自: 192.192.87.141\\n',\n",
       " '※ 發信站: 批踢踢實業坊(ptt.cc), 來自: 1.171.103.140\\n',\n",
       " '※ 發信站: 批踢踢實業坊(ptt.cc), 來自: 1.171.103.140\\n',\n",
       " '※ 發信站: 批踢踢實業坊(ptt.cc), 來自: 114.45.127.173\\n',\n",
       " '※ 發信站: 批踢踢實業坊(ptt.cc), 來自: 192.192.87.150\\n',\n",
       " '※ 發信站: 批踢踢實業坊(ptt.cc), 來自: 192.192.87.141\\n',\n",
       " '※ 發信站: 批踢踢實業坊(ptt.cc), 來自: 192.192.87.141\\n',\n",
       " '※ 發信站: 批踢踢實業坊(ptt.cc), 來自: 192.192.87.141\\n',\n",
       " '※ 發信站: 批踢踢實業坊(ptt.cc), 來自: 61.230.13.167\\n',\n",
       " '※ 發信站: 批踢踢實業坊(ptt.cc), 來自: 61.230.13.167\\n',\n",
       " '※ 發信站: 批踢踢實業坊(ptt.cc), 來自: 61.230.13.167\\n',\n",
       " '※ 發信站: 批踢踢實業坊(ptt.cc), 來自: 192.192.87.150\\n',\n",
       " '※ 發信站: 批踢踢實業坊(ptt.cc), 來自: 36.228.130.86\\n',\n",
       " '※ 發信站: 批踢踢實業坊(ptt.cc), 來自: 59.115.183.95\\n',\n",
       " '※ 發信站: 批踢踢實業坊(ptt.cc), 來自: 59.115.180.23\\n',\n",
       " '※ 發信站: 批踢踢實業坊(ptt.cc), 來自: 59.115.180.23\\n',\n",
       " '※ 發信站: 批踢踢實業坊(ptt.cc), 來自: 59.115.180.23\\n',\n",
       " '※ 發信站: 批踢踢實業坊(ptt.cc), 來自: 59.115.180.23\\n',\n",
       " '※ 發信站: 批踢踢實業坊(ptt.cc), 來自: 59.115.183.75\\n',\n",
       " '※ 發信站: 批踢踢實業坊(ptt.cc), 來自: 1.171.96.134\\n',\n",
       " '※ 發信站: 批踢踢實業坊(ptt.cc), 來自: 59.115.179.86\\n',\n",
       " '※ 發信站: 批踢踢實業坊(ptt.cc), 來自: 59.115.179.86\\n',\n",
       " '※ 發信站: 批踢踢實業坊(ptt.cc), 來自: 59.115.167.93\\n',\n",
       " '※ 發信站: 批踢踢實業坊(ptt.cc), 來自: 192.192.87.141\\n',\n",
       " '※ 發信站: 批踢踢實業坊(ptt.cc), 來自: 220.141.19.89\\n',\n",
       " '※ 發信站: 批踢踢實業坊(ptt.cc), 來自: 220.141.19.89\\n',\n",
       " '※ 發信站: 批踢踢實業坊(ptt.cc), 來自: 220.141.19.89\\n',\n",
       " '※ 發信站: 批踢踢實業坊(ptt.cc), 來自: 1.171.98.242\\n',\n",
       " '※ 發信站: 批踢踢實業坊(ptt.cc), 來自: 114.45.124.158\\n',\n",
       " '※ 發信站: 批踢踢實業坊(ptt.cc), 來自: 114.45.124.158\\n',\n",
       " '※ 發信站: 批踢踢實業坊(ptt.cc), 來自: 118.166.11.113\\n',\n",
       " '※ 發信站: 批踢踢實業坊(ptt.cc), 來自: 192.192.87.141\\n',\n",
       " '※ 發信站: 批踢踢實業坊(ptt.cc), 來自: 61.230.9.207\\n',\n",
       " '※ 發信站: 批踢踢實業坊(ptt.cc), 來自: 61.230.9.207\\n',\n",
       " '※ 發信站: 批踢踢實業坊(ptt.cc), 來自: 61.230.9.207\\n',\n",
       " '※ 發信站: 批踢踢實業坊(ptt.cc), 來自: 114.24.39.22\\n',\n",
       " '※ 發信站: 批踢踢實業坊(ptt.cc), 來自: 59.115.162.170\\n',\n",
       " '※ 發信站: 批踢踢實業坊(ptt.cc), 來自: 59.115.162.170\\n',\n",
       " '※ 發信站: 批踢踢實業坊(ptt.cc), 來自: 59.115.162.170\\n',\n",
       " '※ 發信站: 批踢踢實業坊(ptt.cc), 來自: 36.228.134.124\\n',\n",
       " '※ 發信站: 批踢踢實業坊(ptt.cc), 來自: 59.115.161.239\\n',\n",
       " '※ 發信站: 批踢踢實業坊(ptt.cc), 來自: 59.115.161.239\\n',\n",
       " '※ 發信站: 批踢踢實業坊(ptt.cc), 來自: 118.167.171.93\\n',\n",
       " '※ 發信站: 批踢踢實業坊(ptt.cc), 來自: 118.167.171.93\\n',\n",
       " '※ 發信站: 批踢踢實業坊(ptt.cc), 來自: 61.230.14.128\\n',\n",
       " '※ 發信站: 批踢踢實業坊(ptt.cc), 來自: 61.230.14.128\\n',\n",
       " '※ 發信站: 批踢踢實業坊(ptt.cc), 來自: 220.141.20.215\\n',\n",
       " '※ 發信站: 批踢踢實業坊(ptt.cc), 來自: 220.141.20.215\\n',\n",
       " '※ 發信站: 批踢踢實業坊(ptt.cc), 來自: 220.141.20.215\\n',\n",
       " '※ 發信站: 批踢踢實業坊(ptt.cc), 來自: 114.45.124.95\\n',\n",
       " '※ 發信站: 批踢踢實業坊(ptt.cc), 來自: 192.192.87.141\\n',\n",
       " '※ 發信站: 批踢踢實業坊(ptt.cc), 來自: 59.115.163.87\\n',\n",
       " '※ 發信站: 批踢踢實業坊(ptt.cc), 來自: 1.171.103.121\\n',\n",
       " '※ 發信站: 批踢踢實業坊(ptt.cc), 來自: 1.171.96.111\\n',\n",
       " '※ 發信站: 批踢踢實業坊(ptt.cc), 來自: 1.171.96.111\\n',\n",
       " '※ 發信站: 批踢踢實業坊(ptt.cc), 來自: 1.171.96.111\\n',\n",
       " '※ 發信站: 批踢踢實業坊(ptt.cc), 來自: 114.24.34.126\\n',\n",
       " '※ 發信站: 批踢踢實業坊(ptt.cc), 來自: 114.45.124.12\\n',\n",
       " '※ 發信站: 批踢踢實業坊(ptt.cc), 來自: 114.45.124.12\\n',\n",
       " '※ 發信站: 批踢踢實業坊(ptt.cc), 來自: 114.45.124.12\\n',\n",
       " '※ 發信站: 批踢踢實業坊(ptt.cc), 來自: 114.45.124.12\\n',\n",
       " '※ 發信站: 批踢踢實業坊(ptt.cc), 來自: 118.167.171.109\\n',\n",
       " '※ 發信站: 批踢踢實業坊(ptt.cc), 來自: 118.167.171.109\\n',\n",
       " '※ 發信站: 批踢踢實業坊(ptt.cc), 來自: 61.230.14.154\\n',\n",
       " '※ 發信站: 批踢踢實業坊(ptt.cc), 來自: 118.166.10.249\\n',\n",
       " '※ 發信站: 批踢踢實業坊(ptt.cc), 來自: 118.167.172.159\\n',\n",
       " '※ 發信站: 批踢踢實業坊(ptt.cc), 來自: 59.115.177.131\\n',\n",
       " '※ 發信站: 批踢踢實業坊(ptt.cc), 來自: 59.115.172.178 (臺灣)\\n',\n",
       " '※ 發信站: 批踢踢實業坊(ptt.cc), 來自: 59.115.163.26 (臺灣)\\n',\n",
       " '※ 發信站: 批踢踢實業坊(ptt.cc), 來自: 192.192.87.141 (臺灣)\\n',\n",
       " '※ 發信站: 批踢踢實業坊(ptt.cc), 來自: 61.230.9.117 (臺灣)\\n',\n",
       " '※ 發信站: 批踢踢實業坊(ptt.cc), 來自: 61.230.9.117 (臺灣)\\n',\n",
       " '※ 發信站: 批踢踢實業坊(ptt.cc), 來自: 61.230.13.16 (臺灣)\\n',\n",
       " '※ 發信站: 批踢踢實業坊(ptt.cc), 來自: 118.167.171.111 (臺灣)\\n',\n",
       " '※ 發信站: 批踢踢實業坊(ptt.cc), 來自: 59.115.172.216 (臺灣)\\n',\n",
       " '※ 發信站: 批踢踢實業坊(ptt.cc), 來自: 118.166.14.199 (臺灣)\\n',\n",
       " '※ 發信站: 批踢踢實業坊(ptt.cc), 來自: 118.166.14.199 (臺灣)\\n',\n",
       " '※ 發信站: 批踢踢實業坊(ptt.cc), 來自: 118.167.169.52 (臺灣)\\n',\n",
       " '※ 發信站: 批踢踢實業坊(ptt.cc), 來自: 118.169.12.8 (臺灣)\\n',\n",
       " '※ 發信站: 批踢踢實業坊(ptt.cc), 來自: 118.167.170.57 (臺灣)\\n',\n",
       " '※ 發信站: 批踢踢實業坊(ptt.cc), 來自: 118.167.171.201 (臺灣)\\n',\n",
       " '※ 發信站: 批踢踢實業坊(ptt.cc), 來自: 192.192.87.141 (臺灣)\\n',\n",
       " '※ 發信站: 批踢踢實業坊(ptt.cc), 來自: 59.115.167.234 (臺灣)\\n',\n",
       " '※ 發信站: 批踢踢實業坊(ptt.cc), 來自: 192.192.87.142 (臺灣)\\n',\n",
       " '※ 發信站: 批踢踢實業坊(ptt.cc), 來自: 118.167.170.36 (臺灣)\\n',\n",
       " '※ 發信站: 批踢踢實業坊(ptt.cc), 來自: 61.230.11.95 (臺灣)\\n',\n",
       " '※ 發信站: 批踢踢實業坊(ptt.cc), 來自: 114.24.36.247 (臺灣)\\n',\n",
       " '※ 發信站: 批踢踢實業坊(ptt.cc), 來自: 220.141.28.66 (臺灣)\\n',\n",
       " '※ 發信站: 批踢踢實業坊(ptt.cc), 來自: 118.169.12.160 (臺灣)\\n',\n",
       " '※ 發信站: 批踢踢實業坊(ptt.cc), 來自: 118.167.169.194 (臺灣)\\n',\n",
       " '※ 發信站: 批踢踢實業坊(ptt.cc), 來自: 118.167.172.160 (臺灣)\\n',\n",
       " '※ 發信站: 批踢踢實業坊(ptt.cc), 來自: 192.192.87.150 (臺灣)\\n',\n",
       " '※ 發信站: 批踢踢實業坊(ptt.cc), 來自: 125.227.163.127 (臺灣)\\n',\n",
       " '※ 發信站: 批踢踢實業坊(ptt.cc), 來自: 59.115.166.233 (臺灣)\\n',\n",
       " '※ 發信站: 批踢踢實業坊(ptt.cc), 來自: 111.235.212.56 (臺灣)\\n',\n",
       " '※ 發信站: 批踢踢實業坊(ptt.cc), 來自: 111.235.212.56 (臺灣)\\n',\n",
       " '※ 發信站: 批踢踢實業坊(ptt.cc), 來自: 111.235.212.56 (臺灣)\\n',\n",
       " '※ 發信站: 批踢踢實業坊(ptt.cc), 來自: 192.192.87.141 (臺灣)\\n',\n",
       " '※ 發信站: 批踢踢實業坊(ptt.cc), 來自: 192.192.87.150 (臺灣)\\n',\n",
       " '※ 發信站: 批踢踢實業坊(ptt.cc), 來自: 111.235.212.56 (臺灣)\\n',\n",
       " '※ 發信站: 批踢踢實業坊(ptt.cc), 來自: 192.192.87.150 (臺灣)\\n',\n",
       " '※ 發信站: 批踢踢實業坊(ptt.cc), 來自: 111.235.212.56 (臺灣)\\n',\n",
       " '※ 發信站: 批踢踢實業坊(ptt.cc), 來自: 111.235.212.56 (臺灣)\\n',\n",
       " '※ 發信站: 批踢踢實業坊(ptt.cc), 來自: 111.235.212.56 (臺灣)\\n',\n",
       " '※ 發信站: 批踢踢實業坊(ptt.cc), 來自: 192.192.87.141 (臺灣)\\n',\n",
       " '※ 發信站: 批踢踢實業坊(ptt.cc), 來自: 192.192.86.109 (臺灣)\\n',\n",
       " '※ 發信站: 批踢踢實業坊(ptt.cc), 來自: 111.235.212.56 (臺灣)\\n',\n",
       " '※ 發信站: 批踢踢實業坊(ptt.cc), 來自: 192.192.87.141 (臺灣)\\n',\n",
       " '※ 發信站: 批踢踢實業坊(ptt.cc), 來自: 192.192.86.110 (臺灣)\\n',\n",
       " '※ 發信站: 批踢踢實業坊(ptt.cc), 來自: 192.192.86.109 (臺灣)\\n',\n",
       " '※ 發信站: 批踢踢實業坊(ptt.cc), 來自: 192.192.87.141 (臺灣)\\n',\n",
       " '※ 發信站: 批踢踢實業坊(ptt.cc), 來自: 192.192.58.18 (臺灣)\\n',\n",
       " '※ 發信站: 批踢踢實業坊(ptt.cc), 來自: 192.192.87.143 (臺灣)\\n',\n",
       " '※ 發信站: 批踢踢實業坊(ptt.cc), 來自: 192.192.58.18 (臺灣)\\n',\n",
       " '※ 發信站: 批踢踢實業坊(ptt.cc), 來自: 192.192.58.18 (臺灣)\\n',\n",
       " '※ 發信站: 批踢踢實業坊(ptt.cc), 來自: 111.235.212.56 (臺灣)\\n',\n",
       " '※ 發信站: 批踢踢實業坊(ptt.cc), 來自: 192.192.87.150 (臺灣)\\n',\n",
       " '※ 發信站: 批踢踢實業坊(ptt.cc), 來自: 192.192.58.18 (臺灣)\\n',\n",
       " '※ 發信站: 批踢踢實業坊(ptt.cc), 來自: 111.235.212.56 (臺灣)\\n',\n",
       " '※ 發信站: 批踢踢實業坊(ptt.cc), 來自: 192.192.86.131 (臺灣)\\n',\n",
       " '※ 發信站: 批踢踢實業坊(ptt.cc), 來自: 111.235.212.56 (臺灣)\\n',\n",
       " '※ 發信站: 批踢踢實業坊(ptt.cc), 來自: 192.192.87.141 (臺灣)\\n',\n",
       " '※ 發信站: 批踢踢實業坊(ptt.cc), 來自: 192.192.87.150 (臺灣)\\n',\n",
       " '※ 發信站: 批踢踢實業坊(ptt.cc), 來自: 111.235.212.56 (臺灣)\\n',\n",
       " '※ 發信站: 批踢踢實業坊(ptt.cc), 來自: 111.235.212.56 (臺灣)\\n',\n",
       " '※ 發信站: 批踢踢實業坊(ptt.cc), 來自: 111.235.212.56 (臺灣)\\n',\n",
       " '※ 發信站: 批踢踢實業坊(ptt.cc), 來自: 111.235.212.56 (臺灣)\\n',\n",
       " '※ 發信站: 批踢踢實業坊(ptt.cc), 來自: 111.235.212.56 (臺灣)\\n',\n",
       " '※ 發信站: 批踢踢實業坊(ptt.cc), 來自: 192.192.87.141 (臺灣)\\n',\n",
       " '※ 發信站: 批踢踢實業坊(ptt.cc), 來自: 111.235.212.56 (臺灣)\\n',\n",
       " '※ 發信站: 批踢踢實業坊(ptt.cc), 來自: 111.235.212.56 (臺灣)\\n',\n",
       " '※ 發信站: 批踢踢實業坊(ptt.cc), 來自: 111.235.212.56 (臺灣)\\n',\n",
       " '※ 發信站: 批踢踢實業坊(ptt.cc), 來自: 192.192.87.141 (臺灣)\\n',\n",
       " '※ 發信站: 批踢踢實業坊(ptt.cc), 來自: 111.235.212.56 (臺灣)\\n',\n",
       " '※ 發信站: 批踢踢實業坊(ptt.cc), 來自: 111.235.212.56 (臺灣)\\n',\n",
       " '※ 發信站: 批踢踢實業坊(ptt.cc), 來自: 192.192.58.18 (臺灣)\\n',\n",
       " '※ 發信站: 批踢踢實業坊(ptt.cc), 來自: 192.192.86.131 (臺灣)\\n',\n",
       " '※ 發信站: 批踢踢實業坊(ptt.cc), 來自: 192.192.86.135 (臺灣)\\n',\n",
       " '※ 發信站: 批踢踢實業坊(ptt.cc), 來自: 192.192.58.18 (臺灣)\\n',\n",
       " '※ 發信站: 批踢踢實業坊(ptt.cc), 來自: 111.235.212.56 (臺灣)\\n',\n",
       " '※ 發信站: 批踢踢實業坊(ptt.cc), 來自: 111.235.212.56 (臺灣)\\n',\n",
       " '※ 發信站: 批踢踢實業坊(ptt.cc), 來自: 192.192.58.18 (臺灣)\\n',\n",
       " '※ 發信站: 批踢踢實業坊(ptt.cc), 來自: 111.235.212.56 (臺灣)\\n',\n",
       " '※ 發信站: 批踢踢實業坊(ptt.cc), 來自: 192.192.86.137 (臺灣)\\n',\n",
       " '※ 發信站: 批踢踢實業坊(ptt.cc), 來自: 111.235.212.56 (臺灣)\\n',\n",
       " '※ 發信站: 批踢踢實業坊(ptt.cc), 來自: 111.235.212.56 (臺灣)\\n',\n",
       " '※ 發信站: 批踢踢實業坊(ptt.cc), 來自: 192.192.87.141 (臺灣)\\n',\n",
       " '※ 發信站: 批踢踢實業坊(ptt.cc), 來自: 210.71.59.112 (臺灣)\\n',\n",
       " '※ 發信站: 批踢踢實業坊(ptt.cc), 來自: 111.235.212.56 (臺灣)\\n',\n",
       " '※ 發信站: 批踢踢實業坊(ptt.cc), 來自: 192.192.86.139 (臺灣)\\n',\n",
       " '※ 發信站: 批踢踢實業坊(ptt.cc), 來自: 192.192.58.18 (臺灣)\\n',\n",
       " '※ 發信站: 批踢踢實業坊(ptt.cc), 來自: 111.235.212.56 (臺灣)\\n',\n",
       " '※ 發信站: 批踢踢實業坊(ptt.cc), 來自: 192.192.87.150 (臺灣)\\n',\n",
       " '※ 發信站: 批踢踢實業坊(ptt.cc), 來自: 111.235.212.56 (臺灣)\\n',\n",
       " '※ 發信站: 批踢踢實業坊(ptt.cc), 來自: 111.235.212.56 (臺灣)\\n',\n",
       " '※ 發信站: 批踢踢實業坊(ptt.cc), 來自: 192.192.86.135 (臺灣)\\n',\n",
       " '※ 發信站: 批踢踢實業坊(ptt.cc), 來自: 111.235.212.56 (臺灣)\\n',\n",
       " '※ 發信站: 批踢踢實業坊(ptt.cc), 來自: 111.235.212.56 (臺灣)\\n',\n",
       " '※ 發信站: 批踢踢實業坊(ptt.cc), 來自: 111.235.212.56 (臺灣)\\n',\n",
       " '※ 發信站: 批踢踢實業坊(ptt.cc), 來自: 111.235.212.56 (臺灣)\\n',\n",
       " '※ 發信站: 批踢踢實業坊(ptt.cc), 來自: 111.235.212.56 (臺灣)\\n',\n",
       " '※ 發信站: 批踢踢實業坊(ptt.cc), 來自: 192.192.58.18 (臺灣)\\n',\n",
       " '※ 發信站: 批踢踢實業坊(ptt.cc), 來自: 111.235.212.56 (臺灣)\\n',\n",
       " '※ 發信站: 批踢踢實業坊(ptt.cc), 來自: 111.235.212.56 (臺灣)\\n',\n",
       " '※ 發信站: 批踢踢實業坊(ptt.cc), 來自: 111.235.212.56 (臺灣)\\n',\n",
       " '※ 發信站: 批踢踢實業坊(ptt.cc), 來自: 111.235.212.56 (臺灣)\\n',\n",
       " '※ 發信站: 批踢踢實業坊(ptt.cc), 來自: 111.235.212.56 (臺灣)\\n',\n",
       " '※ 發信站: 批踢踢實業坊(ptt.cc), 來自: 192.192.87.143 (臺灣)\\n',\n",
       " '※ 發信站: 批踢踢實業坊(ptt.cc), 來自: 111.235.212.56 (臺灣)\\n',\n",
       " '※ 發信站: 批踢踢實業坊(ptt.cc), 來自: 192.192.58.18 (臺灣)\\n',\n",
       " '※ 發信站: 批踢踢實業坊(ptt.cc), 來自: 111.235.212.56 (臺灣)\\n',\n",
       " '※ 發信站: 批踢踢實業坊(ptt.cc), 來自: 111.235.212.56 (臺灣)\\n',\n",
       " '※ 發信站: 批踢踢實業坊(ptt.cc), 來自: 192.192.87.143 (臺灣)\\n',\n",
       " '※ 發信站: 批踢踢實業坊(ptt.cc), 來自: 192.192.87.144 (臺灣)\\n',\n",
       " '※ 發信站: 批踢踢實業坊(ptt.cc), 來自: 111.235.212.56 (臺灣)\\n',\n",
       " '※ 發信站: 批踢踢實業坊(ptt.cc), 來自: 111.235.212.56 (臺灣)\\n',\n",
       " '※ 發信站: 批踢踢實業坊(ptt.cc), 來自: 111.235.212.56 (臺灣)\\n',\n",
       " '※ 發信站: 批踢踢實業坊(ptt.cc), 來自: 111.235.212.56 (臺灣)\\n',\n",
       " '※ 發信站: 批踢踢實業坊(ptt.cc), 來自: 111.235.212.56 (臺灣)\\n',\n",
       " '※ 發信站: 批踢踢實業坊(ptt.cc), 來自: 111.235.212.56 (臺灣)\\n',\n",
       " '※ 發信站: 批踢踢實業坊(ptt.cc), 來自: 111.235.212.56 (臺灣)\\n',\n",
       " '※ 發信站: 批踢踢實業坊(ptt.cc), 來自: 111.235.212.56 (臺灣)\\n',\n",
       " '※ 發信站: 批踢踢實業坊(ptt.cc), 來自: 111.235.212.56 (臺灣)\\n',\n",
       " '※ 發信站: 批踢踢實業坊(ptt.cc), 來自: 111.235.212.56 (臺灣)\\n',\n",
       " '※ 發信站: 批踢踢實業坊(ptt.cc), 來自: 111.235.212.56 (臺灣)\\n',\n",
       " '※ 發信站: 批踢踢實業坊(ptt.cc), 來自: 111.235.212.56 (臺灣)\\n',\n",
       " '※ 發信站: 批踢踢實業坊(ptt.cc), 來自: 111.235.212.56 (臺灣)\\n',\n",
       " '※ 發信站: 批踢踢實業坊(ptt.cc), 來自: 111.235.212.56 (臺灣)\\n',\n",
       " '※ 發信站: 批踢踢實業坊(ptt.cc), 來自: 111.235.212.56 (臺灣)\\n',\n",
       " '※ 發信站: 批踢踢實業坊(ptt.cc), 來自: 111.235.212.56 (臺灣)\\n',\n",
       " '※ 發信站: 批踢踢實業坊(ptt.cc), 來自: 111.235.212.56 (臺灣)\\n',\n",
       " '※ 發信站: 批踢踢實業坊(ptt.cc), 來自: 111.235.212.56 (臺灣)\\n',\n",
       " '※ 發信站: 批踢踢實業坊(ptt.cc), 來自: 111.235.212.56 (臺灣)\\n']"
      ]
     },
     "execution_count": 143,
     "metadata": {},
     "output_type": "execute_result"
    }
   ],
   "source": [
    "c=[]\n",
    "url = \"https://www.ptt.cc/bbs/HatePolitics/M.1599123101.A.972.html\"\n",
    "r = requests.get(url, headers = my_headers)\n",
    "soup = BeautifulSoup(r.text, \"html5lib\")\n",
    "b=soup.find_all('span',class_=\"f2\")\n",
    "for i in range(len(b)):\n",
    "    a=b[i].text\n",
    "    if a[0:5]=='※ 發信站':\n",
    "        c.append(a)\n",
    "c"
   ]
  },
  {
   "cell_type": "code",
   "execution_count": 120,
   "metadata": {},
   "outputs": [
    {
     "data": {
      "text/plain": [
       "'https://www.ptt.cc/bbs/HatePolitics/M.1599309524.A.DFD.html'"
      ]
     },
     "execution_count": 120,
     "metadata": {},
     "output_type": "execute_result"
    }
   ],
   "source": [
    "title_url[9]"
   ]
  },
  {
   "cell_type": "code",
   "execution_count": null,
   "metadata": {},
   "outputs": [],
   "source": [
    "#-------------------------------------------------------username"
   ]
  },
  {
   "cell_type": "code",
   "execution_count": 150,
   "metadata": {},
   "outputs": [
    {
     "name": "stdout",
     "output_type": "stream",
     "text": [
      "37.518678426742554\n"
     ]
    }
   ],
   "source": [
    "user=[]\n",
    "\n",
    "start = time.time()\n",
    "\n",
    "for i in range(0,50):\n",
    "    my_headers = {'cookie': 'over18=1;'}\n",
    "    r=requests.get(url_list[i],headers=my_headers)\n",
    "    soup = BeautifulSoup(r.text, \"html5lib\")\n",
    "    b=soup.find_all('div',class_=\"title\")\n",
    "    for i in range(len(b)):\n",
    "        if b[i].text.replace('\\n','').replace('\\t','')[0:8]!='(本文已被刪除)' and b[i].text.replace('\\n','').replace('\\t','')[0:3]!='(已被':\n",
    "            c=soup.find_all('div',class_=\"author\")\n",
    "            user.append(c[i].text)\n",
    "        \n",
    "process_time = time.time() - start\n",
    "print(process_time)"
   ]
  },
  {
   "cell_type": "code",
   "execution_count": 151,
   "metadata": {},
   "outputs": [
    {
     "name": "stdout",
     "output_type": "stream",
     "text": [
      "967\n"
     ]
    },
    {
     "data": {
      "text/plain": [
       "'Zcould'"
      ]
     },
     "execution_count": 151,
     "metadata": {},
     "output_type": "execute_result"
    }
   ],
   "source": [
    "print(len(user))\n",
    "user[-1]"
   ]
  },
  {
   "cell_type": "code",
   "execution_count": 8,
   "metadata": {},
   "outputs": [],
   "source": [
    "#-------------------------------------------------------title"
   ]
  },
  {
   "cell_type": "code",
   "execution_count": 152,
   "metadata": {},
   "outputs": [
    {
     "name": "stdout",
     "output_type": "stream",
     "text": [
      "36.135048389434814\n"
     ]
    }
   ],
   "source": [
    "title=[]\n",
    "\n",
    "start = time.time()\n",
    "\n",
    "for i in range(0,50):\n",
    "    my_headers = {'cookie': 'over18=1;'}\n",
    "    r=requests.get(url_list[i],headers=my_headers)\n",
    "    soup = BeautifulSoup(r.text, \"html5lib\")\n",
    "    b=soup.find_all('div',class_=\"title\")\n",
    "    for i in range(len(b)):\n",
    "        if b[i].text.replace('\\n','').replace('\\t','')[0:8]!='(本文已被刪除)' and b[i].text.replace('\\n','').replace('\\t','')[0:3]!='(已被':\n",
    "            title.append(b[i].text.replace('\\t','').replace('\\n',''))\n",
    "        \n",
    "process_time = time.time() - start\n",
    "print(process_time)"
   ]
  },
  {
   "cell_type": "code",
   "execution_count": 153,
   "metadata": {},
   "outputs": [
    {
     "name": "stdout",
     "output_type": "stream",
     "text": [
      "[討論] 沒有愛奇異微薄微信掏寶你會怎樣嗎?\n",
      "967\n"
     ]
    }
   ],
   "source": [
    "print(title[-1])\n",
    "print(len(title))"
   ]
  },
  {
   "cell_type": "code",
   "execution_count": 47,
   "metadata": {},
   "outputs": [],
   "source": [
    "#-------------------------------------------------------"
   ]
  },
  {
   "cell_type": "code",
   "execution_count": 21,
   "metadata": {},
   "outputs": [
    {
     "ename": "NameError",
     "evalue": "name 'title' is not defined",
     "output_type": "error",
     "traceback": [
      "\u001b[1;31m---------------------------------------------------------------------------\u001b[0m",
      "\u001b[1;31mNameError\u001b[0m                                 Traceback (most recent call last)",
      "\u001b[1;32m<ipython-input-21-8fc6a5ce2086>\u001b[0m in \u001b[0;36m<module>\u001b[1;34m\u001b[0m\n\u001b[0;32m      3\u001b[0m \u001b[1;32mimport\u001b[0m \u001b[0mcollections\u001b[0m\u001b[1;33m\u001b[0m\u001b[1;33m\u001b[0m\u001b[0m\n\u001b[0;32m      4\u001b[0m \u001b[1;33m\u001b[0m\u001b[0m\n\u001b[1;32m----> 5\u001b[1;33m s=pd.DataFrame({'標題': title[0:500],\n\u001b[0m\u001b[0;32m      6\u001b[0m                 \u001b[1;34m'作者'\u001b[0m\u001b[1;33m:\u001b[0m \u001b[0muser\u001b[0m\u001b[1;33m[\u001b[0m\u001b[1;36m0\u001b[0m\u001b[1;33m:\u001b[0m\u001b[1;36m500\u001b[0m\u001b[1;33m]\u001b[0m\u001b[1;33m,\u001b[0m\u001b[1;33m\u001b[0m\u001b[1;33m\u001b[0m\u001b[0m\n\u001b[0;32m      7\u001b[0m                 'IP': user_ip[0:500]})\n",
      "\u001b[1;31mNameError\u001b[0m: name 'title' is not defined"
     ]
    }
   ],
   "source": [
    "import pandas as pd\n",
    "import numpy as np\n",
    "import collections\n",
    "\n",
    "s=pd.DataFrame({'標題': title[0:500],\n",
    "                '作者': user[0:500],\n",
    "                'IP': user_ip[0:500]})\n",
    "\n",
    "display(s)"
   ]
  },
  {
   "cell_type": "code",
   "execution_count": 168,
   "metadata": {},
   "outputs": [],
   "source": [
    "import collections\n",
    "c = collections.Counter(user_ip)\n",
    "\n",
    "ip=[]\n",
    "ip_=[]\n",
    "b=c.most_common(200)\n",
    "for i in range(len(b)):\n",
    "    if b[i][1]>1:\n",
    "        ip.append(b[i][0])\n",
    "        ip_.append(b[i][1])\n",
    "   "
   ]
  },
  {
   "cell_type": "code",
   "execution_count": 172,
   "metadata": {},
   "outputs": [
    {
     "data": {
      "text/html": [
       "<div>\n",
       "<style scoped>\n",
       "    .dataframe tbody tr th:only-of-type {\n",
       "        vertical-align: middle;\n",
       "    }\n",
       "\n",
       "    .dataframe tbody tr th {\n",
       "        vertical-align: top;\n",
       "    }\n",
       "\n",
       "    .dataframe thead th {\n",
       "        text-align: right;\n",
       "    }\n",
       "</style>\n",
       "<table border=\"1\" class=\"dataframe\">\n",
       "  <thead>\n",
       "    <tr style=\"text-align: right;\">\n",
       "      <th></th>\n",
       "      <th>IP</th>\n",
       "      <th>數量</th>\n",
       "    </tr>\n",
       "  </thead>\n",
       "  <tbody>\n",
       "    <tr>\n",
       "      <th>0</th>\n",
       "      <td>150.116.179.47</td>\n",
       "      <td>6</td>\n",
       "    </tr>\n",
       "    <tr>\n",
       "      <th>1</th>\n",
       "      <td>49.216.161.56</td>\n",
       "      <td>6</td>\n",
       "    </tr>\n",
       "    <tr>\n",
       "      <th>2</th>\n",
       "      <td>39.12.137.48</td>\n",
       "      <td>6</td>\n",
       "    </tr>\n",
       "    <tr>\n",
       "      <th>3</th>\n",
       "      <td>122.118.108.10</td>\n",
       "      <td>6</td>\n",
       "    </tr>\n",
       "    <tr>\n",
       "      <th>4</th>\n",
       "      <td>61.222.53.13</td>\n",
       "      <td>5</td>\n",
       "    </tr>\n",
       "    <tr>\n",
       "      <th>...</th>\n",
       "      <td>...</td>\n",
       "      <td>...</td>\n",
       "    </tr>\n",
       "    <tr>\n",
       "      <th>96</th>\n",
       "      <td>39.9.192.210</td>\n",
       "      <td>2</td>\n",
       "    </tr>\n",
       "    <tr>\n",
       "      <th>97</th>\n",
       "      <td>125.227.186.108</td>\n",
       "      <td>2</td>\n",
       "    </tr>\n",
       "    <tr>\n",
       "      <th>98</th>\n",
       "      <td>27.242.222.11</td>\n",
       "      <td>2</td>\n",
       "    </tr>\n",
       "    <tr>\n",
       "      <th>99</th>\n",
       "      <td>42.73.36.177</td>\n",
       "      <td>2</td>\n",
       "    </tr>\n",
       "    <tr>\n",
       "      <th>100</th>\n",
       "      <td>101.14.194.130</td>\n",
       "      <td>2</td>\n",
       "    </tr>\n",
       "  </tbody>\n",
       "</table>\n",
       "<p>101 rows × 2 columns</p>\n",
       "</div>"
      ],
      "text/plain": [
       "             IP       數量\n",
       "0     150.116.179.47   6\n",
       "1      49.216.161.56   6\n",
       "2       39.12.137.48   6\n",
       "3     122.118.108.10   6\n",
       "4       61.222.53.13   5\n",
       "..               ...  ..\n",
       "96      39.9.192.210   2\n",
       "97   125.227.186.108   2\n",
       "98     27.242.222.11   2\n",
       "99      42.73.36.177   2\n",
       "100   101.14.194.130   2\n",
       "\n",
       "[101 rows x 2 columns]"
      ]
     },
     "metadata": {},
     "output_type": "display_data"
    }
   ],
   "source": [
    "\n",
    "p=pd.DataFrame({'IP': ip,\n",
    "                '數量': ip_})\n",
    "display(p)"
   ]
  },
  {
   "cell_type": "code",
   "execution_count": 174,
   "metadata": {},
   "outputs": [
    {
     "data": {
      "text/plain": [
       "['150.116.179.47', '49.216.161.56', '39.12.137.48', '122.118.108.10']"
      ]
     },
     "execution_count": 174,
     "metadata": {},
     "output_type": "execute_result"
    }
   ],
   "source": [
    "main_ip=[]\n",
    "b=c.most_common(200)\n",
    "for i in range(len(b)):\n",
    "    if b[i][1]>5:\n",
    "        main_ip.append(b[i][0])\n",
    "main_ip "
   ]
  },
  {
   "cell_type": "code",
   "execution_count": 231,
   "metadata": {},
   "outputs": [],
   "source": [
    "user_ip.index(main_ip[0])\n",
    "user_ip[12:-1].index(main_ip[0])\n",
    "\n",
    "\n",
    "def ip(iii):\n",
    "    bb=[]\n",
    "    cc=[]\n",
    "    dd=[]\n",
    "    a=[i for i, x in enumerate(user_ip[0:500]) if x == main_ip[iii]]\n",
    "    for i in range(len(a)):\n",
    "        bb.append(user[0:500][a[i]])\n",
    "    for i in range(len(a)):\n",
    "        cc.append(user_ip[0:500][a[i]])\n",
    "    for i in range(len(a)):\n",
    "        dd.append(title[0:500][a[i]])\n",
    "\n",
    "    p=pd.DataFrame({'title':dd,\n",
    "                    'Author':bb,\n",
    "                    'IP': cc})\n",
    "    display(p)\n"
   ]
  },
  {
   "cell_type": "code",
   "execution_count": 352,
   "metadata": {},
   "outputs": [
    {
     "data": {
      "text/plain": [
       "257"
      ]
     },
     "execution_count": 352,
     "metadata": {},
     "output_type": "execute_result"
    }
   ],
   "source": [
    "user_ip.index(main_ip[0])\n",
    "user_ip[12:-1].index(main_ip[0])\n"
   ]
  },
  {
   "cell_type": "code",
   "execution_count": 232,
   "metadata": {},
   "outputs": [
    {
     "data": {
      "text/html": [
       "<div>\n",
       "<style scoped>\n",
       "    .dataframe tbody tr th:only-of-type {\n",
       "        vertical-align: middle;\n",
       "    }\n",
       "\n",
       "    .dataframe tbody tr th {\n",
       "        vertical-align: top;\n",
       "    }\n",
       "\n",
       "    .dataframe thead th {\n",
       "        text-align: right;\n",
       "    }\n",
       "</style>\n",
       "<table border=\"1\" class=\"dataframe\">\n",
       "  <thead>\n",
       "    <tr style=\"text-align: right;\">\n",
       "      <th></th>\n",
       "      <th>title</th>\n",
       "      <th>Author</th>\n",
       "      <th>IP</th>\n",
       "    </tr>\n",
       "  </thead>\n",
       "  <tbody>\n",
       "    <tr>\n",
       "      <th>0</th>\n",
       "      <td>[公告] 政治黑特板板規_20200523_V6.0</td>\n",
       "      <td>Rrrxddd</td>\n",
       "      <td>150.116.179.47</td>\n",
       "    </tr>\n",
       "    <tr>\n",
       "      <th>1</th>\n",
       "      <td>[公告] 關於轉文至八卦版</td>\n",
       "      <td>kero2377</td>\n",
       "      <td>150.116.179.47</td>\n",
       "    </tr>\n",
       "    <tr>\n",
       "      <th>2</th>\n",
       "      <td>[公告] #1VK8zpCe tw689 版規2-2 21天</td>\n",
       "      <td>phoenixzero</td>\n",
       "      <td>150.116.179.47</td>\n",
       "    </tr>\n",
       "    <tr>\n",
       "      <th>3</th>\n",
       "      <td>[討論] 中、印是不是快開打了？</td>\n",
       "      <td>ppp123</td>\n",
       "      <td>150.116.179.47</td>\n",
       "    </tr>\n",
       "    <tr>\n",
       "      <th>4</th>\n",
       "      <td>[討論] 廢物堆積場</td>\n",
       "      <td>takashi01</td>\n",
       "      <td>150.116.179.47</td>\n",
       "    </tr>\n",
       "    <tr>\n",
       "      <th>5</th>\n",
       "      <td>[新聞] 加利老闆怒嗆國家隊 羅友志轟「酷吏」：</td>\n",
       "      <td>tenfu</td>\n",
       "      <td>150.116.179.47</td>\n",
       "    </tr>\n",
       "  </tbody>\n",
       "</table>\n",
       "</div>"
      ],
      "text/plain": [
       "                            title       Author              IP\n",
       "0      [公告] 政治黑特板板規_20200523_V6.0      Rrrxddd  150.116.179.47\n",
       "1                   [公告] 關於轉文至八卦版     kero2377  150.116.179.47\n",
       "2  [公告] #1VK8zpCe tw689 版規2-2 21天  phoenixzero  150.116.179.47\n",
       "3                [討論] 中、印是不是快開打了？       ppp123  150.116.179.47\n",
       "4                      [討論] 廢物堆積場    takashi01  150.116.179.47\n",
       "5        [新聞] 加利老闆怒嗆國家隊 羅友志轟「酷吏」：        tenfu  150.116.179.47"
      ]
     },
     "metadata": {},
     "output_type": "display_data"
    },
    {
     "data": {
      "text/html": [
       "<div>\n",
       "<style scoped>\n",
       "    .dataframe tbody tr th:only-of-type {\n",
       "        vertical-align: middle;\n",
       "    }\n",
       "\n",
       "    .dataframe tbody tr th {\n",
       "        vertical-align: top;\n",
       "    }\n",
       "\n",
       "    .dataframe thead th {\n",
       "        text-align: right;\n",
       "    }\n",
       "</style>\n",
       "<table border=\"1\" class=\"dataframe\">\n",
       "  <thead>\n",
       "    <tr style=\"text-align: right;\">\n",
       "      <th></th>\n",
       "      <th>title</th>\n",
       "      <th>Author</th>\n",
       "      <th>IP</th>\n",
       "    </tr>\n",
       "  </thead>\n",
       "  <tbody>\n",
       "    <tr>\n",
       "      <th>0</th>\n",
       "      <td>Re: [新聞] 到後山拔樁？民眾黨花蓮總服務處成立　主</td>\n",
       "      <td>linchadwick</td>\n",
       "      <td>49.216.161.56</td>\n",
       "    </tr>\n",
       "    <tr>\n",
       "      <th>1</th>\n",
       "      <td>[新聞] 學生、軍警不吃美豬！陳時中苦笑：我沒說</td>\n",
       "      <td>nightwing</td>\n",
       "      <td>49.216.161.56</td>\n",
       "    </tr>\n",
       "    <tr>\n",
       "      <th>2</th>\n",
       "      <td>[新聞] 國民黨：現金用光 盼年底前籌措1億2000萬</td>\n",
       "      <td>heinse</td>\n",
       "      <td>49.216.161.56</td>\n",
       "    </tr>\n",
       "    <tr>\n",
       "      <th>3</th>\n",
       "      <td>Re: [討論] 為什麼柯糞都從c-chat出來居多</td>\n",
       "      <td>pkpkc</td>\n",
       "      <td>49.216.161.56</td>\n",
       "    </tr>\n",
       "    <tr>\n",
       "      <th>4</th>\n",
       "      <td>[討論] 台北市立交響樂團吹中國喇叭</td>\n",
       "      <td>Ophiuchus</td>\n",
       "      <td>49.216.161.56</td>\n",
       "    </tr>\n",
       "    <tr>\n",
       "      <th>5</th>\n",
       "      <td>Re: [新聞] 柯文哲自豪零舉債還款570億　點名外縣市</td>\n",
       "      <td>sunyeah</td>\n",
       "      <td>49.216.161.56</td>\n",
       "    </tr>\n",
       "  </tbody>\n",
       "</table>\n",
       "</div>"
      ],
      "text/plain": [
       "                           title       Author             IP\n",
       "0   Re: [新聞] 到後山拔樁？民眾黨花蓮總服務處成立　主  linchadwick  49.216.161.56\n",
       "1       [新聞] 學生、軍警不吃美豬！陳時中苦笑：我沒說    nightwing  49.216.161.56\n",
       "2    [新聞] 國民黨：現金用光 盼年底前籌措1億2000萬       heinse  49.216.161.56\n",
       "3     Re: [討論] 為什麼柯糞都從c-chat出來居多        pkpkc  49.216.161.56\n",
       "4             [討論] 台北市立交響樂團吹中國喇叭    Ophiuchus  49.216.161.56\n",
       "5  Re: [新聞] 柯文哲自豪零舉債還款570億　點名外縣市      sunyeah  49.216.161.56"
      ]
     },
     "metadata": {},
     "output_type": "display_data"
    },
    {
     "data": {
      "text/html": [
       "<div>\n",
       "<style scoped>\n",
       "    .dataframe tbody tr th:only-of-type {\n",
       "        vertical-align: middle;\n",
       "    }\n",
       "\n",
       "    .dataframe tbody tr th {\n",
       "        vertical-align: top;\n",
       "    }\n",
       "\n",
       "    .dataframe thead th {\n",
       "        text-align: right;\n",
       "    }\n",
       "</style>\n",
       "<table border=\"1\" class=\"dataframe\">\n",
       "  <thead>\n",
       "    <tr style=\"text-align: right;\">\n",
       "      <th></th>\n",
       "      <th>title</th>\n",
       "      <th>Author</th>\n",
       "      <th>IP</th>\n",
       "    </tr>\n",
       "  </thead>\n",
       "  <tbody>\n",
       "    <tr>\n",
       "      <th>0</th>\n",
       "      <td>[新聞] 到後山拔樁？民眾黨花蓮總服務處成立　主</td>\n",
       "      <td>ice80712</td>\n",
       "      <td>39.12.137.48</td>\n",
       "    </tr>\n",
       "    <tr>\n",
       "      <th>1</th>\n",
       "      <td>Re: [轉錄] #雨兒碎碎唸</td>\n",
       "      <td>wupaul</td>\n",
       "      <td>39.12.137.48</td>\n",
       "    </tr>\n",
       "    <tr>\n",
       "      <th>2</th>\n",
       "      <td>[黑特] 陳時中：予豈好帶頭食美豬哉？予不得已也</td>\n",
       "      <td>NuCat</td>\n",
       "      <td>39.12.137.48</td>\n",
       "    </tr>\n",
       "    <tr>\n",
       "      <th>3</th>\n",
       "      <td>[討論] 政黑蟑螂窩綠蟑螂都是雜碎吧</td>\n",
       "      <td>berkeley5566</td>\n",
       "      <td>39.12.137.48</td>\n",
       "    </tr>\n",
       "    <tr>\n",
       "      <th>4</th>\n",
       "      <td>Re: [討論] 為什麼柯糞都從c-chat出來居多</td>\n",
       "      <td>leptoneta</td>\n",
       "      <td>39.12.137.48</td>\n",
       "    </tr>\n",
       "    <tr>\n",
       "      <th>5</th>\n",
       "      <td>[新聞] 劣質中國製口罩混入實名制 侯友宜：全面</td>\n",
       "      <td>knnji</td>\n",
       "      <td>39.12.137.48</td>\n",
       "    </tr>\n",
       "  </tbody>\n",
       "</table>\n",
       "</div>"
      ],
      "text/plain": [
       "                        title        Author            IP\n",
       "0    [新聞] 到後山拔樁？民眾黨花蓮總服務處成立　主      ice80712  39.12.137.48\n",
       "1             Re: [轉錄] #雨兒碎碎唸        wupaul  39.12.137.48\n",
       "2    [黑特] 陳時中：予豈好帶頭食美豬哉？予不得已也         NuCat  39.12.137.48\n",
       "3          [討論] 政黑蟑螂窩綠蟑螂都是雜碎吧  berkeley5566  39.12.137.48\n",
       "4  Re: [討論] 為什麼柯糞都從c-chat出來居多     leptoneta  39.12.137.48\n",
       "5    [新聞] 劣質中國製口罩混入實名制 侯友宜：全面         knnji  39.12.137.48"
      ]
     },
     "metadata": {},
     "output_type": "display_data"
    },
    {
     "data": {
      "text/html": [
       "<div>\n",
       "<style scoped>\n",
       "    .dataframe tbody tr th:only-of-type {\n",
       "        vertical-align: middle;\n",
       "    }\n",
       "\n",
       "    .dataframe tbody tr th {\n",
       "        vertical-align: top;\n",
       "    }\n",
       "\n",
       "    .dataframe thead th {\n",
       "        text-align: right;\n",
       "    }\n",
       "</style>\n",
       "<table border=\"1\" class=\"dataframe\">\n",
       "  <thead>\n",
       "    <tr style=\"text-align: right;\">\n",
       "      <th></th>\n",
       "      <th>title</th>\n",
       "      <th>Author</th>\n",
       "      <th>IP</th>\n",
       "    </tr>\n",
       "  </thead>\n",
       "  <tbody>\n",
       "    <tr>\n",
       "      <th>0</th>\n",
       "      <td>[新聞] 加利負責人350萬元交保 侯友宜：一定要從</td>\n",
       "      <td>rockawii</td>\n",
       "      <td>122.118.108.10</td>\n",
       "    </tr>\n",
       "    <tr>\n",
       "      <th>1</th>\n",
       "      <td>Re: [Live] 美豬ractopamine容許量記者會</td>\n",
       "      <td>devidevi</td>\n",
       "      <td>122.118.108.10</td>\n",
       "    </tr>\n",
       "    <tr>\n",
       "      <th>2</th>\n",
       "      <td>Re: [討論] 文宣部被人家公幹 整天做旗魚米粉!</td>\n",
       "      <td>ericisfish</td>\n",
       "      <td>122.118.108.10</td>\n",
       "    </tr>\n",
       "    <tr>\n",
       "      <th>3</th>\n",
       "      <td>[Live] 捷克天團要回家了</td>\n",
       "      <td>stantheman</td>\n",
       "      <td>122.118.108.10</td>\n",
       "    </tr>\n",
       "    <tr>\n",
       "      <th>4</th>\n",
       "      <td>[新聞] 台美日歐鞏固供應鏈聯合聲明 確保供應鏈</td>\n",
       "      <td>nicetree</td>\n",
       "      <td>122.118.108.10</td>\n",
       "    </tr>\n",
       "    <tr>\n",
       "      <th>5</th>\n",
       "      <td>Re: [討論] 有發現政黑被入侵嗎</td>\n",
       "      <td>zeuswell</td>\n",
       "      <td>122.118.108.10</td>\n",
       "    </tr>\n",
       "  </tbody>\n",
       "</table>\n",
       "</div>"
      ],
      "text/plain": [
       "                            title      Author              IP\n",
       "0      [新聞] 加利負責人350萬元交保 侯友宜：一定要從    rockawii  122.118.108.10\n",
       "1  Re: [Live] 美豬ractopamine容許量記者會    devidevi  122.118.108.10\n",
       "2      Re: [討論] 文宣部被人家公幹 整天做旗魚米粉!  ericisfish  122.118.108.10\n",
       "3                 [Live] 捷克天團要回家了  stantheman  122.118.108.10\n",
       "4        [新聞] 台美日歐鞏固供應鏈聯合聲明 確保供應鏈    nicetree  122.118.108.10\n",
       "5              Re: [討論] 有發現政黑被入侵嗎    zeuswell  122.118.108.10"
      ]
     },
     "metadata": {},
     "output_type": "display_data"
    }
   ],
   "source": [
    "a=len(main_ip)\n",
    "for i in range(a):\n",
    "    ip(int(i))\n"
   ]
  },
  {
   "cell_type": "code",
   "execution_count": 233,
   "metadata": {},
   "outputs": [],
   "source": [
    "#---------------------------------------ip特定"
   ]
  },
  {
   "cell_type": "code",
   "execution_count": 1,
   "metadata": {},
   "outputs": [],
   "source": [
    "import requests\n",
    "from bs4 import BeautifulSoup\n",
    "import re\n",
    "import threading\n",
    "import time"
   ]
  },
  {
   "cell_type": "code",
   "execution_count": 2,
   "metadata": {},
   "outputs": [],
   "source": [
    "user_name=['ice80712','rockawii']\n",
    "\n",
    "url = 'https://www.ptt.cc/bbs/HatePolitics/search?page=1&q=author%3A'+user_name[1]\n",
    "my_headers = {'cookie': 'over18=1;'}\n",
    "r = requests.get(url, headers = my_headers)\n",
    "soup = BeautifulSoup(r.text, \"html5lib\")\n",
    "\n",
    "url_list=[]\n",
    "\n",
    "a=soup.find('a',class_='btn wide')\n",
    "page=a['href'].replace('/bbs/HatePolitics/search?page=','').replace('&q=author%3A'+user_name[1],'')\n",
    "\n",
    "for i in range(int(page)):\n",
    "    url_list.append('https://www.ptt.cc/bbs/HatePolitics/search?page='+str(i+1)+'&q=author%3A'+user_name[1])\n",
    "    \n"
   ]
  },
  {
   "cell_type": "code",
   "execution_count": 3,
   "metadata": {},
   "outputs": [
    {
     "name": "stdout",
     "output_type": "stream",
     "text": [
      "68\n",
      "2.6944053173065186\n"
     ]
    }
   ],
   "source": [
    "start = time.time()\n",
    "\n",
    "title_url=[]\n",
    "\n",
    "my_headers = {'cookie': 'over18=1;'}\n",
    "for i in range(int(page)):\n",
    "    r=requests.get(url_list[i],headers=my_headers)\n",
    "    soup = BeautifulSoup(r.text, \"html5lib\")\n",
    "    b=soup.find_all('div',class_=\"title\")\n",
    "\n",
    "    for i in range(len(b)):\n",
    "        if b[i].text.replace('\\n','').replace('\\t','')[0:8]!='(本文已被刪除)' and b[i].text.replace('\\n','').replace('\\t','')[0:3]!='(已被' :\n",
    "            title_url.append('https://www.ptt.cc'+b[i].a['href'])\n",
    "\n",
    "print(len(title_url))\n",
    "process_time = time.time() - start\n",
    "print(process_time)"
   ]
  },
  {
   "cell_type": "code",
   "execution_count": 4,
   "metadata": {},
   "outputs": [
    {
     "name": "stdout",
     "output_type": "stream",
     "text": [
      "44.65198087692261\n"
     ]
    }
   ],
   "source": [
    "start = time.time()\n",
    "\n",
    "\n",
    "my_headers = {'cookie': 'over18=1;'}\n",
    "\n",
    "for i in range(len(title_url)):\n",
    "    url = title_url[i]\n",
    "    r = requests.get(url, headers = my_headers)\n",
    "    soup = BeautifulSoup(r.text, \"html5lib\")\n",
    "    \n",
    "    a=soup.find_all('div', class_=\"bbs-screen bbs-content\")\n",
    "    b=soup.find_all('span',class_='article-meta-value')\n",
    "    if len(b)==4:\n",
    "        file = open('rockawii.txt', 'a',encoding=\"utf-8\")\n",
    "        file.write(str(a[0].contents[4]).replace('\\n','').replace(' ',''))\n",
    "        file.close()\n",
    "\n",
    "process_time = time.time() - start\n",
    "print(process_time)\n"
   ]
  },
  {
   "cell_type": "code",
   "execution_count": 5,
   "metadata": {},
   "outputs": [],
   "source": [
    "from PIL import Image\n",
    "import matplotlib.pyplot as plt\n",
    "\n",
    "import jieba\n",
    "import jieba.analyse\n",
    "from wordcloud import WordCloud\n",
    "import numpy as np\n",
    "from collections import Counter"
   ]
  },
  {
   "cell_type": "code",
   "execution_count": 6,
   "metadata": {},
   "outputs": [
    {
     "name": "stderr",
     "output_type": "stream",
     "text": [
      "Building prefix dict from C:\\Users\\user\\Downloads\\字庫.txt ...\n",
      "Loading model from cache C:\\Users\\user\\AppData\\Local\\Temp\\jieba.uf67890af50e5769294c1968bf1a9beea.cache\n",
      "Loading model cost 0.560 seconds.\n",
      "Prefix dict has been built successfully.\n"
     ]
    }
   ],
   "source": [
    "text=open('rockawii.txt','r',encoding=\"utf-8\").read()\n",
    "\n",
    "jieba.set_dictionary('字庫.txt')\n",
    "\n",
    "with open('停用詞0.txt','r',encoding=\"utf-8-sig\") as f:\n",
    "    stops=f.read().split('\\n')\n",
    "    \n",
    "terms=[]\n",
    "for t in jieba.cut(text,cut_all=False):\n",
    "    if t not in stops:\n",
    "        terms.append(t)\n",
    "\n",
    "diction=Counter(terms)"
   ]
  },
  {
   "cell_type": "code",
   "execution_count": 10,
   "metadata": {},
   "outputs": [
    {
     "name": "stdout",
     "output_type": "stream",
     "text": [
      "1858\n",
      "1858\n"
     ]
    }
   ],
   "source": [
    "dic=diction\n",
    "keys=[]\n",
    "values=[]\n",
    "for key in diction.keys():\n",
    "    keys.append(key)\n",
    "for value in diction.values():\n",
    "    values.append(value)\n",
    "print(len(keys))\n",
    "print(len(values))"
   ]
  },
  {
   "cell_type": "code",
   "execution_count": 11,
   "metadata": {},
   "outputs": [
    {
     "data": {
      "text/plain": [
       "29"
      ]
     },
     "execution_count": 11,
     "metadata": {},
     "output_type": "execute_result"
    }
   ],
   "source": [
    "k=[]\n",
    "v=[]\n",
    "\n",
    "\n",
    "\n",
    "\n",
    "for e in dic.values():\n",
    "    if e>25:\n",
    "        v.append(e)\n",
    "        \n",
    "for d in dic:\n",
    "    if dic[str(d)]>25:\n",
    "        k.append(d)\n",
    "dic_50=dict(zip(k,v))\n",
    "len(dic_50)"
   ]
  },
  {
   "cell_type": "code",
   "execution_count": 12,
   "metadata": {},
   "outputs": [
    {
     "data": {
      "text/plain": [
       "{'侯友宜': 188,\n",
       " '2020': 38,\n",
       " '記者': 38,\n",
       " '新北': 150,\n",
       " '報導': 42,\n",
       " '口罩': 40,\n",
       " '市長': 90,\n",
       " '指出': 26,\n",
       " '北市': 72,\n",
       " '中央': 54,\n",
       " '健康': 34,\n",
       " '地方': 34,\n",
       " '美豬': 30,\n",
       " '做好': 30,\n",
       " '開放': 26,\n",
       " '安全': 26,\n",
       " '業者': 28,\n",
       " '未來': 26,\n",
       " '違規': 26,\n",
       " '防疫': 80,\n",
       " '汐止': 30,\n",
       " '疫情': 26,\n",
       " '總統': 44,\n",
       " '桃園': 48,\n",
       " '鄭文燦': 30,\n",
       " '蔡英文': 28,\n",
       " '民調': 30,\n",
       " '幼兒園': 26,\n",
       " '報到': 34}"
      ]
     },
     "execution_count": 12,
     "metadata": {},
     "output_type": "execute_result"
    }
   ],
   "source": [
    "dic_50"
   ]
  },
  {
   "cell_type": "code",
   "execution_count": 13,
   "metadata": {},
   "outputs": [],
   "source": [
    "kk=[]\n",
    "vv=[]\n",
    "for k, v in sorted(dic_50.items(), key=lambda x: -x[1]):\n",
    "    kk.append(str(k))\n",
    "    vv.append(v)"
   ]
  },
  {
   "cell_type": "code",
   "execution_count": 14,
   "metadata": {},
   "outputs": [
    {
     "data": {
      "text/plain": [
       "['侯友宜',\n",
       " '新北',\n",
       " '市長',\n",
       " '防疫',\n",
       " '北市',\n",
       " '中央',\n",
       " '桃園',\n",
       " '總統',\n",
       " '報導',\n",
       " '口罩',\n",
       " '2020',\n",
       " '記者',\n",
       " '健康',\n",
       " '地方',\n",
       " '報到',\n",
       " '美豬',\n",
       " '做好',\n",
       " '汐止',\n",
       " '鄭文燦',\n",
       " '民調',\n",
       " '業者',\n",
       " '蔡英文',\n",
       " '指出',\n",
       " '開放',\n",
       " '安全',\n",
       " '未來',\n",
       " '違規',\n",
       " '疫情',\n",
       " '幼兒園']"
      ]
     },
     "execution_count": 14,
     "metadata": {},
     "output_type": "execute_result"
    }
   ],
   "source": [
    "kk"
   ]
  },
  {
   "cell_type": "code",
   "execution_count": 15,
   "metadata": {
    "scrolled": false
   },
   "outputs": [
    {
     "data": {
      "image/png": "[encoded data removed]",
      "text/plain": [
       "<Figure size 720x576 with 1 Axes>"
      ]
     },
     "metadata": {
      "needs_background": "light"
     },
     "output_type": "display_data"
    }
   ],
   "source": [
    "import matplotlib.pyplot as plt \n",
    "plt.rcParams['font.sans-serif'] = ['Taipei Sans TC Beta']\n",
    "plt.rcParams[\"font.size\"] = 18\n",
    "colorlist = [\"b\"]\n",
    "\n",
    "plt.figure(figsize=(10, 8))\n",
    "plt.bar(list(kk), vv, color=colorlist,width=0.8)\n",
    "plt.title('rockawii')\n",
    "plt.xticks(rotation=90)\n",
    "plt.tight_layout()\n",
    "\n",
    "plt.show() \n"
   ]
  },
  {
   "cell_type": "code",
   "execution_count": null,
   "metadata": {},
   "outputs": [],
   "source": []
  },
  {
   "cell_type": "code",
   "execution_count": 16,
   "metadata": {},
   "outputs": [],
   "source": [
    "\n",
    "date=[]\n",
    "my_headers = {'cookie': 'over18=1;'}\n",
    "for i in range(int(page)):\n",
    "    r=requests.get(url_list[i],headers=my_headers)\n",
    "    soup = BeautifulSoup(r.text, \"html5lib\")\n",
    "    b=soup.find_all('div',class_=\"date\")\n",
    "    for i in range(len(b)):\n",
    "        date.append(b[i].text.replace(' ',''))\n",
    "\n",
    "\n",
    "\n",
    "\n"
   ]
  },
  {
   "cell_type": "code",
   "execution_count": 27,
   "metadata": {},
   "outputs": [],
   "source": [
    "count=[]\n",
    "for i in range(4,9):\n",
    "    for d in date:\n",
    "        if d[0]==str(i):\n",
    "            count.append(d[0])\n"
   ]
  },
  {
   "cell_type": "code",
   "execution_count": 30,
   "metadata": {},
   "outputs": [],
   "source": [
    "mon_count=[]\n",
    "for i in range(4,9):\n",
    "    mon_count.append(count.count(str(i)))"
   ]
  },
  {
   "cell_type": "code",
   "execution_count": 19,
   "metadata": {},
   "outputs": [
    {
     "data": {
      "text/plain": [
       "[25, 16, 8, 0, 7]"
      ]
     },
     "execution_count": 19,
     "metadata": {},
     "output_type": "execute_result"
    }
   ],
   "source": [
    "mon_count"
   ]
  },
  {
   "cell_type": "code",
   "execution_count": 22,
   "metadata": {
    "scrolled": false
   },
   "outputs": [
    {
     "data": {
      "text/html": [
       "<div>\n",
       "<style scoped>\n",
       "    .dataframe tbody tr th:only-of-type {\n",
       "        vertical-align: middle;\n",
       "    }\n",
       "\n",
       "    .dataframe tbody tr th {\n",
       "        vertical-align: top;\n",
       "    }\n",
       "\n",
       "    .dataframe thead th {\n",
       "        text-align: right;\n",
       "    }\n",
       "</style>\n",
       "<table border=\"1\" class=\"dataframe\">\n",
       "  <thead>\n",
       "    <tr style=\"text-align: right;\">\n",
       "      <th></th>\n",
       "      <th>月份</th>\n",
       "      <th>文章數</th>\n",
       "    </tr>\n",
       "  </thead>\n",
       "  <tbody>\n",
       "    <tr>\n",
       "      <th>0</th>\n",
       "      <td>4</td>\n",
       "      <td>25</td>\n",
       "    </tr>\n",
       "    <tr>\n",
       "      <th>1</th>\n",
       "      <td>5</td>\n",
       "      <td>16</td>\n",
       "    </tr>\n",
       "    <tr>\n",
       "      <th>2</th>\n",
       "      <td>6</td>\n",
       "      <td>8</td>\n",
       "    </tr>\n",
       "    <tr>\n",
       "      <th>3</th>\n",
       "      <td>7</td>\n",
       "      <td>0</td>\n",
       "    </tr>\n",
       "    <tr>\n",
       "      <th>4</th>\n",
       "      <td>8</td>\n",
       "      <td>7</td>\n",
       "    </tr>\n",
       "  </tbody>\n",
       "</table>\n",
       "</div>"
      ],
      "text/plain": [
       "  月份  文章數\n",
       "0  4   25\n",
       "1  5   16\n",
       "2  6    8\n",
       "3  7    0\n",
       "4  8    7"
      ]
     },
     "metadata": {},
     "output_type": "display_data"
    }
   ],
   "source": [
    "mon=['4','5','6','7','8']\n",
    "\n",
    "p=pd.DataFrame({'月份':mon,\n",
    "                '文章數':mon_count})\n",
    "display(p)"
   ]
  },
  {
   "cell_type": "code",
   "execution_count": null,
   "metadata": {},
   "outputs": [],
   "source": []
  },
  {
   "cell_type": "code",
   "execution_count": null,
   "metadata": {},
   "outputs": [],
   "source": []
  },
  {
   "cell_type": "code",
   "execution_count": null,
   "metadata": {},
   "outputs": [],
   "source": [
    "#-------------------------------------------------------"
   ]
  },
  {
   "cell_type": "code",
   "execution_count": 68,
   "metadata": {},
   "outputs": [
    {
     "name": "stdout",
     "output_type": "stream",
     "text": [
      " 39.13.99.148 \n"
     ]
    }
   ],
   "source": [
    "import re\n",
    "d=''\n",
    "\n",
    "my_headers = {'cookie': 'over18=1;'}\n",
    "r=requests.get('https://www.ptt.cc/bbs/HatePolitics/M.1599298869.A.513.html',headers=my_headers)\n",
    "soup = BeautifulSoup(r.text, \"html5lib\")\n",
    "b=soup.find_all('span',class_=\"f2\")\n",
    "for i in range(len(b)):\n",
    "    d+=b[i].text\n",
    "\n",
    "a=re.search(r'[ ](\\d{1,3}).(\\d{1,3}).(\\d{1,3}).(\\d{1,3})[ ]', d)\n",
    "print(a.group())"
   ]
  },
  {
   "cell_type": "code",
   "execution_count": 67,
   "metadata": {},
   "outputs": [
    {
     "data": {
      "text/plain": [
       "'※ 引述《takuminauki (史迪格里茲粉)》之銘言：\\n※ 發信站: 批踢踢實業坊(ptt.cc), 來自: 39.13.99.148 (臺灣)\\n※ 文章網址: https://www.ptt.cc/bbs/HatePolitics/M.1599298869.A.513.html\\n※ 編輯: microsugar (39.13.99.148 臺灣), 09/05/2020 17:41:48\\n'"
      ]
     },
     "execution_count": 67,
     "metadata": {},
     "output_type": "execute_result"
    }
   ],
   "source": [
    "d"
   ]
  },
  {
   "cell_type": "code",
   "execution_count": 59,
   "metadata": {},
   "outputs": [
    {
     "data": {
      "text/plain": [
       "['42.75.155.48',\n",
       " '42.75.155.48',\n",
       " '42.75.155.48',\n",
       " '42.75.155.48',\n",
       " '42.75.155.48',\n",
       " '42.75.155.48',\n",
       " '42.75.155.48',\n",
       " '42.75.155.48',\n",
       " '42.75.155.48',\n",
       " '42.75.155.48']"
      ]
     },
     "execution_count": 59,
     "metadata": {},
     "output_type": "execute_result"
    }
   ],
   "source": [
    "user_ip"
   ]
  },
  {
   "cell_type": "code",
   "execution_count": null,
   "metadata": {},
   "outputs": [],
   "source": []
  }
 ],
 "metadata": {
  "kernelspec": {
   "display_name": "Python 3",
   "language": "python",
   "name": "python3"
  },
  "language_info": {
   "codemirror_mode": {
    "name": "ipython",
    "version": 3
   },
   "file_extension": ".py",
   "mimetype": "text/x-python",
   "name": "python",
   "nbconvert_exporter": "python",
   "pygments_lexer": "ipython3",
   "version": "3.7.6"
  }
 },
 "nbformat": 4,
 "nbformat_minor": 4
}
