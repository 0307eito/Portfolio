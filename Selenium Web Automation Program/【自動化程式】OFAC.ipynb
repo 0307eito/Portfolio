{
 "cells": [
  {
   "cell_type": "code",
   "execution_count": 3,
   "metadata": {},
   "outputs": [],
   "source": [
    "from selenium import webdriver\n",
    "from selenium.webdriver.chrome.options import Options\n",
    "from selenium.webdriver.support.select import Select\n",
    "from selenium.webdriver.support.ui import Select\n",
    "from selenium.webdriver.common.keys import Keys\n",
    "\n",
    "from bs4 import BeautifulSoup\n",
    "import requests\n",
    "\n",
    "import time\n",
    "import datetime\n",
    "import os\n",
    "import shutil\n",
    "import json"
   ]
  },
  {
   "cell_type": "code",
   "execution_count": 4,
   "metadata": {},
   "outputs": [],
   "source": [
    "other = [\"Apple Inc.\",\"Google LLC\",\"KOREA COMPUTER CENTER\"]"
   ]
  },
  {
   "cell_type": "code",
   "execution_count": 5,
   "metadata": {},
   "outputs": [],
   "source": [
    "# 網址設定\n",
    "url='https://sanctionssearch.ofac.treas.gov/'\n",
    "# Chrome Driver設定\n",
    "chopt=webdriver.ChromeOptions()\n",
    "appState = {\n",
    "    \"recentDestinations\": [\n",
    "        {\n",
    "            \"id\": \"Save as PDF\",\n",
    "            \"origin\": \"local\",\n",
    "            \"account\":\"\"\n",
    "        }\n",
    "    ],\n",
    "    \"selectedDestinationId\": \"Save as PDF\",\n",
    "    \"version\": 2\n",
    "}\n",
    "prefs = {'printing.print_preview_sticky_settings.appState': \n",
    "json.dumps(appState)}\n",
    "chopt.add_experimental_option('prefs', prefs)\n",
    "chopt.add_argument('--kiosk-printing')\n",
    "driver = webdriver.Chrome(executable_path='./chromedriver',options=chopt)\n",
    "\n",
    "driver.get(url)"
   ]
  },
  {
   "cell_type": "code",
   "execution_count": 6,
   "metadata": {},
   "outputs": [
    {
     "name": "stdout",
     "output_type": "stream",
     "text": [
      "done\n"
     ]
    }
   ],
   "source": [
    "for i in range(len(other)):\n",
    "    \n",
    "    time.sleep(3)\n",
    "    # 輸入關鍵字\n",
    "    selector= '#ctl00_MainContent_txtLastName'\n",
    "    element = driver.find_element_by_css_selector(selector)\n",
    "    element.send_keys(other[i])\n",
    "    # 按下搜尋鍵\n",
    "    selector= '#ctl00_MainContent_btnSearch'\n",
    "    element = driver.find_element_by_css_selector(selector)\n",
    "    element.click()   \n",
    "    time.sleep(2)\n",
    "    # 將搜尋結果存為PDF檔\n",
    "    driver.execute_script('return window.print()')\n",
    "    # 設定檔名以及下載路徑\n",
    "    a='C:\\\\Users\\\\user\\\\Downloads\\\\Sanctions List Search.pdf'\n",
    "    b='C:\\\\Users\\\\user\\\\Downloads\\\\'+other[i]+'.pdf'\n",
    "    os.rename(a,b)\n",
    "    # 為了重新搜尋下一個，將搜尋完的關鍵字清除\n",
    "    selector= '#ctl00_MainContent_txtLastName'\n",
    "    element = driver.find_element_by_css_selector(selector)\n",
    "    element.clear()\n",
    "    \n",
    "print('done')   "
   ]
  },
  {
   "cell_type": "code",
   "execution_count": null,
   "metadata": {},
   "outputs": [],
   "source": [
    " # 自行更改檔案的位置\n",
    "for i in range(len(other)):\n",
    "\n",
    "    new_path = shutil.move(\"C:\\\\Users\\\\user\\\\Downloads\\\\\"+other[i]+'.pdf', \"C:\\\\Users\\\\user\\\\Downloads\\\\anticheck_list\\\\Other\\\\\"+other[i]+'\\\\')\n"
   ]
  },
  {
   "cell_type": "code",
   "execution_count": null,
   "metadata": {},
   "outputs": [],
   "source": [
    "# 檢查檔案是否存在於更改後的位置\n",
    "ok=[]\n",
    "\n",
    "\n",
    "for i in range(len(other)):\n",
    "\n",
    "    if os.path.exists(\"C:\\\\Users\\\\user\\\\Downloads\\\\anticheck_list\\\\Other\\\\\"+other[i]+'\\\\'+other[i]+'.pdf')==False:\n",
    "        print(other[i])\n",
    "    \n",
    "    else:\n",
    "        ok.append('i')\n",
    "    \n",
    "if len(ok)==len(other):\n",
    "    print('all done')\n",
    "    "
   ]
  }
 ],
 "metadata": {
  "kernelspec": {
   "display_name": "Python 3",
   "language": "python",
   "name": "python3"
  },
  "language_info": {
   "codemirror_mode": {
    "name": "ipython",
    "version": 3
   },
   "file_extension": ".py",
   "mimetype": "text/x-python",
   "name": "python",
   "nbconvert_exporter": "python",
   "pygments_lexer": "ipython3",
   "version": "3.7.6"
  }
 },
 "nbformat": 4,
 "nbformat_minor": 4
}
