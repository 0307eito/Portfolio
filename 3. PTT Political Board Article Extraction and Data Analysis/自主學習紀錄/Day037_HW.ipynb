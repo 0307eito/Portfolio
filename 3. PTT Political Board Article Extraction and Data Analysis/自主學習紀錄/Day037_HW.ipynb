{
 "cells": [
  {
   "cell_type": "markdown",
   "metadata": {},
   "source": [
    "# 自動化更新機制\n",
    "\n",
    "\n",
    "* 如何定期執行爬蟲程式\n",
    "* 更新時需要注意的事情是什麼？\n"
   ]
  },
  {
   "cell_type": "markdown",
   "metadata": {},
   "source": [
    "## 作業目標\n",
    "\n",
    "* 列舉一個是需要用自動化更新的機制來達成的爬蟲應用。"
   ]
  },
  {
   "cell_type": "code",
   "execution_count": null,
   "metadata": {},
   "outputs": [
    {
     "name": "stdout",
     "output_type": "stream",
     "text": [
      "2020/09/02 14:18 醫批健保差額醫材「公告即實施」　陳時中：沒有超出上次討論內容\n",
      "2020/09/02 14:14 AIT解密「六項保證」　蔡英文：意味美國對台政策更清晰\n",
      "測試\n",
      "\n",
      "2020/09/02 14:18 醫批健保差額醫材「公告即實施」　陳時中：沒有超出上次討論內容\n",
      "2020/09/02 14:14 AIT解密「六項保證」　蔡英文：意味美國對台政策更清晰\n",
      "測試\n",
      "\n",
      "2020/09/02 14:18 醫批健保差額醫材「公告即實施」　陳時中：沒有超出上次討論內容\n",
      "2020/09/02 14:14 AIT解密「六項保證」　蔡英文：意味美國對台政策更清晰\n",
      "測試\n",
      "\n",
      "2020/09/02 14:18 醫批健保差額醫材「公告即實施」　陳時中：沒有超出上次討論內容\n",
      "2020/09/02 14:14 AIT解密「六項保證」　蔡英文：意味美國對台政策更清晰\n",
      "測試\n",
      "\n",
      "2020/09/02 14:18 醫批健保差額醫材「公告即實施」　陳時中：沒有超出上次討論內容\n",
      "2020/09/02 14:14 AIT解密「六項保證」　蔡英文：意味美國對台政策更清晰\n",
      "測試\n",
      "\n",
      "2020/09/02 14:18 醫批健保差額醫材「公告即實施」　陳時中：沒有超出上次討論內容\n",
      "2020/09/02 14:14 AIT解密「六項保證」　蔡英文：意味美國對台政策更清晰\n",
      "測試\n",
      "\n",
      "2020/09/02 14:18 醫批健保差額醫材「公告即實施」　陳時中：沒有超出上次討論內容\n",
      "2020/09/02 14:14 AIT解密「六項保證」　蔡英文：意味美國對台政策更清晰\n",
      "測試\n",
      "\n",
      "2020/09/02 14:18 醫批健保差額醫材「公告即實施」　陳時中：沒有超出上次討論內容\n",
      "2020/09/02 14:14 AIT解密「六項保證」　蔡英文：意味美國對台政策更清晰\n",
      "測試\n",
      "\n",
      "2020/09/02 14:18 醫批健保差額醫材「公告即實施」　陳時中：沒有超出上次討論內容\n",
      "2020/09/02 14:14 AIT解密「六項保證」　蔡英文：意味美國對台政策更清晰\n",
      "測試\n",
      "\n",
      "2020/09/02 14:18 醫批健保差額醫材「公告即實施」　陳時中：沒有超出上次討論內容\n",
      "2020/09/02 14:14 AIT解密「六項保證」　蔡英文：意味美國對台政策更清晰\n",
      "測試\n",
      "\n",
      "2020/09/02 14:18 醫批健保差額醫材「公告即實施」　陳時中：沒有超出上次討論內容\n",
      "2020/09/02 14:14 AIT解密「六項保證」　蔡英文：意味美國對台政策更清晰\n",
      "測試\n",
      "\n",
      "2020/09/02 14:18 醫批健保差額醫材「公告即實施」　陳時中：沒有超出上次討論內容\n",
      "2020/09/02 14:14 AIT解密「六項保證」　蔡英文：意味美國對台政策更清晰\n",
      "測試\n",
      "\n",
      "2020/09/02 14:18 醫批健保差額醫材「公告即實施」　陳時中：沒有超出上次討論內容\n",
      "2020/09/02 14:14 AIT解密「六項保證」　蔡英文：意味美國對台政策更清晰\n",
      "測試\n",
      "\n",
      "2020/09/02 14:18 醫批健保差額醫材「公告即實施」　陳時中：沒有超出上次討論內容\n",
      "2020/09/02 14:14 AIT解密「六項保證」　蔡英文：意味美國對台政策更清晰\n",
      "測試\n",
      "\n"
     ]
    }
   ],
   "source": [
    "import requests\n",
    "from bs4 import BeautifulSoup\n",
    "import schedule\n",
    "import time\n",
    "url = 'https://www.ettoday.net/news/news-list.htm'\n",
    "r = requests.get(url)\n",
    "soup = BeautifulSoup(r.text, \"html5lib\")\n",
    "\n",
    "def function():\n",
    "    a=[]\n",
    "    for d in soup.find(class_=\"part_list_2\").find_all('h3'):\n",
    "        print(d.find(class_=\"date\").text,d.find(target=\"_blank\").text)\n",
    "        a.append('')\n",
    "        if len(a)==2:\n",
    "            print('測試')\n",
    "            print()\n",
    "            break\n",
    "        \n",
    "schedule.every(10).seconds.do(function)\n",
    "\n",
    "\n",
    "while True:\n",
    "    schedule.run_pending()\n",
    "\n",
    "    "
   ]
  },
  {
   "cell_type": "code",
   "execution_count": null,
   "metadata": {},
   "outputs": [],
   "source": []
  }
 ],
 "metadata": {
  "colab": {
   "name": "homework.ipynb",
   "provenance": []
  },
  "kernelspec": {
   "display_name": "Python 3",
   "language": "python",
   "name": "python3"
  },
  "language_info": {
   "codemirror_mode": {
    "name": "ipython",
    "version": 3
   },
   "file_extension": ".py",
   "mimetype": "text/x-python",
   "name": "python",
   "nbconvert_exporter": "python",
   "pygments_lexer": "ipython3",
   "version": "3.7.6"
  }
 },
 "nbformat": 4,
 "nbformat_minor": 1
}
