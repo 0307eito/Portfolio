{
 "cells": [
  {
   "cell_type": "code",
   "execution_count": 16,
   "metadata": {},
   "outputs": [],
   "source": [
    "import requests\n",
    "from bs4 import BeautifulSoup\n",
    "import re\n",
    "import threading\n",
    "import time\n",
    "\n"
   ]
  },
  {
   "cell_type": "code",
   "execution_count": 17,
   "metadata": {},
   "outputs": [],
   "source": [
    "url = 'https://www.ptt.cc/bbs/HatePolitics/index.html'\n",
    "my_headers = {'cookie': 'over18=1;'}\n",
    "r = requests.get(url, headers = my_headers)\n",
    "\n",
    "soup = BeautifulSoup(r.text, \"html5lib\")"
   ]
  },
  {
   "cell_type": "code",
   "execution_count": 18,
   "metadata": {
    "scrolled": true
   },
   "outputs": [
    {
     "name": "stdout",
     "output_type": "stream",
     "text": [
      "50\n"
     ]
    },
    {
     "data": {
      "text/plain": [
       "'https://www.ptt.cc/bbs/HatePolitics/index4068.html'"
      ]
     },
     "execution_count": 18,
     "metadata": {},
     "output_type": "execute_result"
    }
   ],
   "source": [
    "url_list=['https://www.ptt.cc/bbs/HatePolitics/index.html']\n",
    "\n",
    "a=soup.find_all('a',class_=\"btn wide\")\n",
    "second_page=a[1]['href']\n",
    "second_page_number=re.findall('[0-9]+', second_page)\n",
    "\n",
    "count=int(second_page_number[0])+1\n",
    "for i in range(49):\n",
    "    count-=1\n",
    "    url_list.append('https://www.ptt.cc/bbs/HatePolitics/index'+str(count)+'.html')\n",
    "\n",
    "print(len(url_list))  \n",
    "    \n",
    "url_list[-1]  \n"
   ]
  },
  {
   "cell_type": "code",
   "execution_count": 19,
   "metadata": {},
   "outputs": [
    {
     "name": "stdout",
     "output_type": "stream",
     "text": [
      "34.63009476661682\n"
     ]
    }
   ],
   "source": [
    "title=[]\n",
    "\n",
    "start = time.time()\n",
    "\n",
    "for i in range(0,50):\n",
    "    my_headers = {'cookie': 'over18=1;'}\n",
    "    r=requests.get(url_list[i],headers=my_headers)\n",
    "    soup = BeautifulSoup(r.text, \"html5lib\")\n",
    "    b=soup.find_all('div',class_=\"title\")\n",
    "    for i in range(len(b)):\n",
    "        if b[i].text.replace('\\n','').replace('\\t','')[0:8]!='(本文已被刪除)' and b[i].text.replace('\\n','').replace('\\t','')[0:3]!='(已被':\n",
    "            title.append(b[i].text.replace('\\t','').replace('\\n',''))\n",
    "        \n",
    "process_time = time.time() - start\n",
    "print(process_time)"
   ]
  },
  {
   "cell_type": "code",
   "execution_count": 15,
   "metadata": {},
   "outputs": [
    {
     "name": "stdout",
     "output_type": "stream",
     "text": [
      "[討論] 這種拼音好像不錯？\n",
      "974\n"
     ]
    }
   ],
   "source": [
    "print(title[-1])\n",
    "print(len(title))"
   ]
  },
  {
   "cell_type": "code",
   "execution_count": null,
   "metadata": {},
   "outputs": [],
   "source": []
  }
 ],
 "metadata": {
  "kernelspec": {
   "display_name": "Python 3",
   "language": "python",
   "name": "python3"
  },
  "language_info": {
   "codemirror_mode": {
    "name": "ipython",
    "version": 3
   },
   "file_extension": ".py",
   "mimetype": "text/x-python",
   "name": "python",
   "nbconvert_exporter": "python",
   "pygments_lexer": "ipython3",
   "version": "3.7.6"
  }
 },
 "nbformat": 4,
 "nbformat_minor": 4
}
