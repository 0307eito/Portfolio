{
 "cells": [
  {
   "cell_type": "code",
   "execution_count": 11,
   "metadata": {},
   "outputs": [],
   "source": [
    "import requests\n",
    "from bs4 import BeautifulSoup\n",
    "import re\n",
    "import threading\n",
    "import time"
   ]
  },
  {
   "cell_type": "code",
   "execution_count": 12,
   "metadata": {},
   "outputs": [],
   "source": [
    "url = 'https://www.ptt.cc/bbs/HatePolitics/index.html'\n",
    "my_headers = {'cookie': 'over18=1;'}\n",
    "r = requests.get(url, headers = my_headers)\n",
    "\n",
    "soup = BeautifulSoup(r.text, \"html5lib\")"
   ]
  },
  {
   "cell_type": "code",
   "execution_count": 13,
   "metadata": {
    "scrolled": true
   },
   "outputs": [
    {
     "name": "stdout",
     "output_type": "stream",
     "text": [
      "50\n"
     ]
    },
    {
     "data": {
      "text/plain": [
       "'https://www.ptt.cc/bbs/HatePolitics/index4067.html'"
      ]
     },
     "execution_count": 13,
     "metadata": {},
     "output_type": "execute_result"
    }
   ],
   "source": [
    "url_list=['https://www.ptt.cc/bbs/HatePolitics/index.html']\n",
    "\n",
    "a=soup.find_all('a',class_=\"btn wide\")\n",
    "second_page=a[1]['href']\n",
    "second_page_number=re.findall('[0-9]+', second_page)\n",
    "\n",
    "count=int(second_page_number[0])+1\n",
    "for i in range(49):\n",
    "    count-=1\n",
    "    url_list.append('https://www.ptt.cc/bbs/HatePolitics/index'+str(count)+'.html')\n",
    "\n",
    "print(len(url_list))  \n",
    "    \n",
    "url_list[-1]"
   ]
  },
  {
   "cell_type": "code",
   "execution_count": 14,
   "metadata": {},
   "outputs": [
    {
     "name": "stdout",
     "output_type": "stream",
     "text": [
      "35.300262451171875\n"
     ]
    }
   ],
   "source": [
    "title_url=[]\n",
    "\n",
    "start = time.time()\n",
    "my_headers = {'cookie': 'over18=1;'}\n",
    "for i in range(0,50):\n",
    "    \n",
    "    r=requests.get(url_list[i],headers=my_headers)\n",
    "    soup = BeautifulSoup(r.text, \"html5lib\")\n",
    "    b=soup.find_all('div',class_=\"title\")\n",
    "    for i in range(len(b)):\n",
    "        if b[i].text.replace('\\n','').replace('\\t','')[0:8]!='(本文已被刪除)' and b[i].text.replace('\\n','').replace('\\t','')[0:3]!='(已被' :\n",
    "            title_url.append('https://www.ptt.cc'+b[i].a['href'])\n",
    "        \n",
    "process_time = time.time() - start\n",
    "print(process_time)     "
   ]
  },
  {
   "cell_type": "code",
   "execution_count": 16,
   "metadata": {},
   "outputs": [
    {
     "name": "stdout",
     "output_type": "stream",
     "text": [
      "https://www.ptt.cc/bbs/HatePolitics/M.1599070283.A.0B3.html\n",
      "974\n"
     ]
    }
   ],
   "source": [
    "print(title_url[-1])\n",
    "print(len(title_url))"
   ]
  },
  {
   "cell_type": "code",
   "execution_count": null,
   "metadata": {},
   "outputs": [],
   "source": []
  }
 ],
 "metadata": {
  "kernelspec": {
   "display_name": "Python 3",
   "language": "python",
   "name": "python3"
  },
  "language_info": {
   "codemirror_mode": {
    "name": "ipython",
    "version": 3
   },
   "file_extension": ".py",
   "mimetype": "text/x-python",
   "name": "python",
   "nbconvert_exporter": "python",
   "pygments_lexer": "ipython3",
   "version": "3.7.6"
  }
 },
 "nbformat": 4,
 "nbformat_minor": 4
}
