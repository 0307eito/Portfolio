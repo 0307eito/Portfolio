{
 "cells": [
  {
   "cell_type": "markdown",
   "metadata": {},
   "source": [
    "# API 資料串接 - 以 Dcard API 實作範例\n",
    "\n",
    "* 了解 Dcard API 使用方式與回傳內容\n",
    "* 撰寫程式存取 API 且解析 JSON 格式資料\n"
   ]
  },
  {
   "cell_type": "markdown",
   "metadata": {},
   "source": [
    "## 作業目標\n",
    "\n",
    "* 請利用 API: https://www.dcard.tw/_api/forums/pet/posts?popular=true 回答下列問題：\n",
    "\n",
    "1. 這個 API 一次會回傳幾筆資料？每一筆資料包含哪些欄位？\n",
    "2. 取出每一筆資料的「標題」、「貼文時間」、「留言人數」、「按讚人數」\n",
    "3. 計算熱門/非熱門文章的「平均留言人數」與「平均按讚人數」"
   ]
  },
  {
   "cell_type": "code",
   "execution_count": 1,
   "metadata": {
    "scrolled": false
   },
   "outputs": [
    {
     "name": "stdout",
     "output_type": "stream",
     "text": [
      "資料數量 30\n",
      "\n",
      "欄位總類 ['id', 'title', 'excerpt', 'anonymousSchool', 'anonymousDepartment', 'pinned', 'forumId', 'replyId', 'createdAt', 'updatedAt', 'commentCount', 'likeCount', 'withNickname', 'tags', 'topics', 'meta', 'forumName', 'forumAlias', 'nsfw', 'gender', 'school', 'replyTitle', 'mediaMeta', 'reactions', 'hidden', 'customStyle', 'isSuspiciousAccount', 'layout', 'withImages', 'withVideos', 'media', 'reportReasonText', 'postAvatar']\n"
     ]
    }
   ],
   "source": [
    "# 1. 這個 API 一次會回傳幾筆資料？每一筆資料包含哪些欄位？\n",
    "import requests\n",
    "import json\n",
    "r = requests.get('https://www.dcard.tw/_api/forums/pet/posts?popular=true')\n",
    "response = r.text\n",
    "\n",
    "data = json.loads(response)\n",
    "\n",
    "print('資料數量',len(data))\n",
    "print()\n",
    "keylist=[]                  \n",
    "for a in data[0].keys():\n",
    "    keylist.append(a)\n",
    "print('欄位總類',keylist)    \n",
    "\n"
   ]
  },
  {
   "cell_type": "code",
   "execution_count": 7,
   "metadata": {},
   "outputs": [
    {
     "name": "stdout",
     "output_type": "stream",
     "text": [
      "求好心人領養牠 --- 2020-08-14T08:42:16.272Z --- 8 --- 157\n",
      "我是養了一隻哈士奇？ --- 2020-08-14T02:27:41.599Z --- 7 --- 134\n",
      "捨不得讓柴柴暴雨中走路的阿嬤 --- 2020-08-14T12:21:55.330Z --- 4 --- 68\n",
      "阿嬤養的貓 --- 2020-08-14T14:37:56.028Z --- 2 --- 58\n",
      "曬曬貓ヾ(*´∇`)ﾉ --- 2020-08-14T15:28:01.261Z --- 8 --- 39\n",
      "趴趴鼠的睡姿💤 --- 2020-08-14T06:39:39.870Z --- 6 --- 14\n",
      "（代po）台北 橘貓收養 --- 2020-08-14T06:32:50.077Z --- 0 --- 14\n",
      "披著狗皮的貓🐱 --- 2020-08-14T14:47:57.111Z --- 2 --- 11\n",
      "尋找主人 --- 2020-08-14T05:38:59.062Z --- 2 --- 11\n",
      "偷拍被發現 --- 2020-08-14T06:09:31.794Z --- 3 --- 10\n",
      "有人知道這是什麼鳥嗎？ --- 2020-08-14T06:41:19.755Z --- 24 --- 8\n",
      "How to成為鳥大便觀察師 --- 2020-08-14T04:52:02.649Z --- 2 --- 8\n",
      "#問 這是布丁鼠吧 --- 2020-08-14T13:03:52.310Z --- 8 --- 7\n",
      "小牙齒😍😍 --- 2020-08-14T08:57:37.104Z --- 4 --- 6\n",
      "讓我愛上貓的貓(⁄ ⁄•⁄ω⁄•⁄ ⁄) --- 2020-08-14T14:56:00.989Z --- 0 --- 5\n",
      "讓人又愛又恨的小孩 --- 2020-08-14T14:06:09.235Z --- 2 --- 4\n",
      "高雄 農十六 金太陽 協尋 --- 2020-08-14T09:50:34.138Z --- 0 --- 3\n",
      "睡姿奇葩的優雅女士🤣 --- 2020-08-15T03:44:03.499Z --- 0 --- 2\n",
      "(求領養)誠徵鏟屎官 --- 2020-08-15T00:57:01.593Z --- 0 --- 2\n",
      "披著貓皮的狗🐱🐶 --- 2020-08-14T09:24:32.901Z --- 0 --- 2\n",
      "#問 沉水過濾器選擇 --- 2020-08-14T12:12:57.670Z --- 2 --- 1\n",
      "（代po) 嘉義市 貓咪收養 --- 2020-08-14T06:02:11.454Z --- 0 --- 1\n",
      "露卡Luka🐶的百變造型 --- 2020-08-14T03:58:51.192Z --- 2 --- 1\n",
      "雲林附近哪裡有在賣蟋蟀的店 --- 2020-08-13T20:13:51.832Z --- 3 --- 1\n",
      "蜜袋鼯鮮食分享（1）雞肉備餐篇 --- 2020-08-13T17:31:07.750Z --- 2 --- 1\n",
      "請問宜蘭大學的學生 --- 2020-08-14T22:46:55.487Z --- 0 --- 0\n",
      "敏感狗 --- 2020-08-14T20:48:24.076Z --- 1 --- 0\n",
      "#問 ➡️狗狗異味如何去除 --- 2020-08-14T16:31:26.398Z --- 2 --- 0\n",
      "狗吃到貓飼料 --- 2020-08-14T14:57:23.299Z --- 3 --- 0\n",
      "「求助」貓的反常問題 --- 2020-08-14T11:10:11.521Z --- 2 --- 0\n"
     ]
    }
   ],
   "source": [
    "# 2. 取出每一筆資料的「標題」、「貼文時間」、「留言人數」、「按讚人數」\n",
    "\n",
    "for d in data:\n",
    "    print(d['title'],'---',d['updatedAt'],'---',d['commentCount'],'---',d['likeCount'])\n",
    "\n"
   ]
  },
  {
   "cell_type": "code",
   "execution_count": 29,
   "metadata": {},
   "outputs": [
    {
     "name": "stdout",
     "output_type": "stream",
     "text": [
      "熱門文章:\n",
      "平均留言人數--- 3.3\n",
      "平均按讚人數--- 18.933333333333334\n",
      "\n",
      "\n",
      "非熱門文章:\n",
      "平均留言人數--- 3.2\n",
      "平均按讚人數--- 21.933333333333334\n"
     ]
    }
   ],
   "source": [
    "# 3. 計算熱門/非熱門文章的「平均留言人數」與「平均按讚人數」\n",
    "\n",
    "#----------------------------------------------熱門文章\n",
    "b=[]\n",
    "for i in range(len(data)):\n",
    "    b.append(data[i]['commentCount'])\n",
    "c=[]    \n",
    "for i in range(len(data)):\n",
    "    c.append(data[i]['likeCount'])    \n",
    "\n",
    "print('熱門文章:')\n",
    "print('平均留言人數---',sum(b)/len(data))\n",
    "print('平均按讚人數---',sum(c)/len(data))\n",
    "print()\n",
    "print()\n",
    "#----------------------------------------------非熱門文章\n",
    "rr = requests.get('https://www.dcard.tw/_api/forums/pet/posts?popular=false')\n",
    "response = rr.text\n",
    "data_r = json.loads(response)\n",
    "\n",
    "d=[]\n",
    "for i in range(len(data_r)):\n",
    "    d.append(data_r[i]['commentCount'])\n",
    "e=[]\n",
    "for i in range(len(data_r)):\n",
    "    e.append(data_r[i]['likeCount'])\n",
    "\n",
    "print('非熱門文章:')\n",
    "print('平均留言人數---',sum(d)/len(data_r))\n",
    "print('平均按讚人數---',sum(e)/len(data_r))"
   ]
  },
  {
   "cell_type": "code",
   "execution_count": null,
   "metadata": {},
   "outputs": [],
   "source": []
  },
  {
   "cell_type": "code",
   "execution_count": null,
   "metadata": {},
   "outputs": [],
   "source": []
  }
 ],
 "metadata": {
  "kernelspec": {
   "display_name": "Python 3",
   "language": "python",
   "name": "python3"
  },
  "language_info": {
   "codemirror_mode": {
    "name": "ipython",
    "version": 3
   },
   "file_extension": ".py",
   "mimetype": "text/x-python",
   "name": "python",
   "nbconvert_exporter": "python",
   "pygments_lexer": "ipython3",
   "version": "3.7.6"
  }
 },
 "nbformat": 4,
 "nbformat_minor": 2
}
