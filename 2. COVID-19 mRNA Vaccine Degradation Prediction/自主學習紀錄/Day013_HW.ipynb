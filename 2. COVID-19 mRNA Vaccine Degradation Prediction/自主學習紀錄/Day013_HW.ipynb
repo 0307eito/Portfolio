{
 "cells": [
  {
   "cell_type": "markdown",
   "metadata": {},
   "source": [
    "# PTT 網路爬蟲實作練習\n",
    "\n",
    "\n",
    "* 能夠利用 Request + BeatifulSour 撰寫爬蟲，並存放到合適的資料結構\n"
   ]
  },
  {
   "cell_type": "markdown",
   "metadata": {},
   "source": [
    "## 作業目標\n",
    "\n",
    "根據範例 ，完成以下問題：\n",
    "\n",
    "* ① 印出最新文章的「作者」「標題」「時間」\n",
    "* ② 印出第一頁所有文章的「作者」「標題」「時間」\n"
   ]
  },
  {
   "cell_type": "markdown",
   "metadata": {},
   "source": [
    "### ① 印出最新文章的「作者」「標題」「時間」"
   ]
  },
  {
   "cell_type": "code",
   "execution_count": 94,
   "metadata": {},
   "outputs": [],
   "source": [
    "import requests\n",
    "from bs4 import BeautifulSoup\n",
    "\n",
    "url = 'https://www.ptt.cc/bbs/NBA/index.html'\n",
    "r = requests.get(url)\n",
    "\n",
    "soup = BeautifulSoup(r.text, \"html5lib\")\n",
    "\n",
    "\n",
    "\n"
   ]
  },
  {
   "cell_type": "code",
   "execution_count": 62,
   "metadata": {},
   "outputs": [
    {
     "data": {
      "text/plain": [
       "['[討論] 大家是不是忘了今天公鹿也輸球？',\n",
       " '[花邊] 拒絕加入超級隊伍 前隊友曝里拉德只想打倒他們',\n",
       " '[討論] 小保羅Chris Paul到底憑什麼進名人堂?',\n",
       " '[公告] 板規v6.8',\n",
       " '[公告] 第一次被退文，可在三天後刪除退文',\n",
       " '[公告] 8/15實施季後賽條款 以及提醒事項(發P) ',\n",
       " '[情報] Playoffs Schedule 19–20']"
      ]
     },
     "execution_count": 62,
     "metadata": {},
     "output_type": "execute_result"
    }
   ],
   "source": [
    "title=[]\n",
    "for d in soup.find_all(class_=\"title\"):\n",
    "    title.append(d.text.replace('\\t', '').replace('\\n', ''))\n",
    "title"
   ]
  },
  {
   "cell_type": "code",
   "execution_count": 88,
   "metadata": {},
   "outputs": [
    {
     "data": {
      "text/plain": [
       "['NewShiisDog',\n",
       " 'thnlkj0665',\n",
       " 'dealdream',\n",
       " 'Vedan',\n",
       " 'Vedan',\n",
       " 'namie810303',\n",
       " 'Acetoxy']"
      ]
     },
     "execution_count": 88,
     "metadata": {},
     "output_type": "execute_result"
    }
   ],
   "source": [
    "author=[]\n",
    "for e in soup.find_all(class_=\"item\"):\n",
    "    author.append(e.text.replace(' ','').replace('搜尋同標題文章','').replace('搜尋看板內','').replace('的文章',''))\n",
    "\n",
    "for i in range(author.count('')):\n",
    "    author.remove('')\n",
    "author"
   ]
  },
  {
   "cell_type": "code",
   "execution_count": 93,
   "metadata": {
    "scrolled": false
   },
   "outputs": [
    {
     "data": {
      "text/plain": [
       "[' 8/19', ' 8/19', ' 8/19', ' 5/24', ' 3/09', ' 8/13', ' 8/18']"
      ]
     },
     "execution_count": 93,
     "metadata": {},
     "output_type": "execute_result"
    }
   ],
   "source": [
    "time=[]\n",
    "for f in soup.find_all(class_=\"date\"):\n",
    "    time.append(f.text)\n",
    "time"
   ]
  },
  {
   "cell_type": "markdown",
   "metadata": {},
   "source": [
    "###② 印出第一頁所有文章的「作者」「標題」「時間」"
   ]
  },
  {
   "cell_type": "code",
   "execution_count": 97,
   "metadata": {},
   "outputs": [
    {
     "name": "stdout",
     "output_type": "stream",
     "text": [
      "時間 :   8/19\n",
      "作者 :  NewShiisDog\n",
      "標題 :  [討論] 大家是不是忘了今天公鹿也輸球？\n",
      "\n",
      "時間 :   8/19\n",
      "作者 :  thnlkj0665\n",
      "標題 :  [花邊] 拒絕加入超級隊伍 前隊友曝里拉德只想打倒他們\n",
      "\n",
      "時間 :   8/19\n",
      "作者 :  dealdream\n",
      "標題 :  [討論] 小保羅Chris Paul到底憑什麼進名人堂?\n",
      "\n",
      "時間 :   5/24\n",
      "作者 :  Vedan\n",
      "標題 :  [公告] 板規v6.8\n",
      "\n",
      "時間 :   3/09\n",
      "作者 :  Vedan\n",
      "標題 :  [公告] 第一次被退文，可在三天後刪除退文\n",
      "\n",
      "時間 :   8/13\n",
      "作者 :  namie810303\n",
      "標題 :  [公告] 8/15實施季後賽條款 以及提醒事項(發P) \n",
      "\n",
      "時間 :   8/18\n",
      "作者 :  Acetoxy\n",
      "標題 :  [情報] Playoffs Schedule 19–20\n",
      "\n"
     ]
    }
   ],
   "source": [
    "for i in range(len(time)):\n",
    "    print('時間 : ',time[i])\n",
    "    print('作者 : ',author[i])\n",
    "    print('標題 : ',title[i])\n",
    "    print()"
   ]
  },
  {
   "cell_type": "markdown",
   "metadata": {},
   "source": [
    "### ③ 試著爬爬看其他版的文章"
   ]
  },
  {
   "cell_type": "code",
   "execution_count": 98,
   "metadata": {},
   "outputs": [
    {
     "data": {
      "text/plain": [
       "['Re: [討論] 各位的父母觀念是否還很傳統?',\n",
       " '[討論] 對方得了什麼病，你會想提分手？',\n",
       " 'Re: [新聞] 知識型網紅爆是「台大恐怖情人」',\n",
       " 'Re: [心情] 到底是自己不爭氣還是自信被壓垮了',\n",
       " 'Re: [心情] 擁有遺傳疾病 不知如何再追求感情',\n",
       " 'Re: [討論] 對方得了什麼病，你會想提分手？',\n",
       " '[求助] 女生說再也不想見到我了怎麼辦',\n",
       " '[討論] 東南亞女，比較好追...??',\n",
       " 'Re: [討論] 對方得了什麼病，你會想提分手？',\n",
       " '(本文已被刪除) [p25488148]',\n",
       " 'Re: [心情] 到底是自己不爭氣還是自信被壓垮了',\n",
       " 'Re: [討論] 東南亞女，比較好追...??',\n",
       " '[公告] 關於新制板規說明（必讀）',\n",
       " '[公告] 檢舉格式教學',\n",
       " '[公告] 有關於\"問卷文申請\"',\n",
       " '[公告] 男女板板規',\n",
       " '[置底閒聊] 18/06/2019 04:17am ']"
      ]
     },
     "execution_count": 98,
     "metadata": {},
     "output_type": "execute_result"
    }
   ],
   "source": [
    "import requests\n",
    "from bs4 import BeautifulSoup\n",
    "\n",
    "url = 'https://www.ptt.cc/bbs/Boy-Girl/index.html'\n",
    "r = requests.get(url)\n",
    "\n",
    "soup = BeautifulSoup(r.text, \"html5lib\")\n",
    "\n",
    "title=[]\n",
    "for d in soup.find_all(class_=\"title\"):\n",
    "    title.append(d.text.replace('\\t', '').replace('\\n', ''))\n",
    "title"
   ]
  }
 ],
 "metadata": {
  "kernelspec": {
   "display_name": "Python 3",
   "language": "python",
   "name": "python3"
  },
  "language_info": {
   "codemirror_mode": {
    "name": "ipython",
    "version": 3
   },
   "file_extension": ".py",
   "mimetype": "text/x-python",
   "name": "python",
   "nbconvert_exporter": "python",
   "pygments_lexer": "ipython3",
   "version": "3.7.6"
  }
 },
 "nbformat": 4,
 "nbformat_minor": 2
}
